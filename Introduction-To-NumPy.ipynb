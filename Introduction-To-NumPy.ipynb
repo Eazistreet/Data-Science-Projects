{
 "cells": [
  {
   "cell_type": "code",
   "execution_count": 1,
   "id": "f042d3cd-05bf-4035-b420-c4f422652a95",
   "metadata": {},
   "outputs": [],
   "source": [
    "import numpy as np"
   ]
  },
  {
   "cell_type": "markdown",
   "id": "d5a2270e-9b13-47a9-b026-232e8aa7ec26",
   "metadata": {},
   "source": [
    "##We are now focusing or NumPy datatypes and atributes"
   ]
  },
  {
   "cell_type": "code",
   "execution_count": 3,
   "id": "ed3ab6fc-10cc-4d34-bf73-2162d9d8a3c0",
   "metadata": {},
   "outputs": [],
   "source": [
    "##NumPys main datatype is ndarray ---> N-Dimensional Array"
   ]
  },
  {
   "cell_type": "code",
   "execution_count": 4,
   "id": "f001ece7-60fc-4ddb-ac6b-71b103b203b2",
   "metadata": {},
   "outputs": [],
   "source": [
    "a1 = np.array ##access array function from numpy"
   ]
  },
  {
   "cell_type": "code",
   "execution_count": 6,
   "id": "8a605556-7e63-47de-affc-5ce928037b5a",
   "metadata": {},
   "outputs": [],
   "source": [
    "##passing list of numbers to our array"
   ]
  },
  {
   "cell_type": "code",
   "execution_count": 7,
   "id": "8a020d73-4242-4839-8419-2be0f1a7940b",
   "metadata": {},
   "outputs": [],
   "source": [
    "a1 = np.array([1,2,3])"
   ]
  },
  {
   "cell_type": "code",
   "execution_count": 8,
   "id": "d3069d8d-af50-4140-a9fb-456603968ca4",
   "metadata": {},
   "outputs": [
    {
     "data": {
      "text/plain": [
       "array([1, 2, 3])"
      ]
     },
     "execution_count": 8,
     "metadata": {},
     "output_type": "execute_result"
    }
   ],
   "source": [
    "a1\n"
   ]
  },
  {
   "cell_type": "code",
   "execution_count": 10,
   "id": "4a7d8d79-c322-42fe-8554-9a5235037ca2",
   "metadata": {},
   "outputs": [
    {
     "data": {
      "text/plain": [
       "numpy.ndarray"
      ]
     },
     "execution_count": 10,
     "metadata": {},
     "output_type": "execute_result"
    }
   ],
   "source": [
    "type(a1)"
   ]
  },
  {
   "cell_type": "code",
   "execution_count": 25,
   "id": "8d48bc65-45a0-40ae-a406-d3e09d1b7ff9",
   "metadata": {},
   "outputs": [],
   "source": [
    "a2 = np.array([[1,2.0,3.3],\n",
    "              [4,5,6.5]])\n",
    "\n",
    "a3 = np.array([[[1,2,3],\n",
    "                [4,5,6],\n",
    "                [7,8,9]],\n",
    "               [[10,11,12],\n",
    "               [13,14,15],\n",
    "               [16,17,18]]])"
   ]
  },
  {
   "cell_type": "code",
   "execution_count": 26,
   "id": "8b5a7200-358a-4193-87b1-30b3a3dfffb8",
   "metadata": {},
   "outputs": [
    {
     "data": {
      "text/plain": [
       "array([[1. , 2. , 3.3],\n",
       "       [4. , 5. , 6.5]])"
      ]
     },
     "execution_count": 26,
     "metadata": {},
     "output_type": "execute_result"
    }
   ],
   "source": [
    "a2"
   ]
  },
  {
   "cell_type": "code",
   "execution_count": 27,
   "id": "8800cd20-136d-48fe-a2be-fa1638b4d98d",
   "metadata": {},
   "outputs": [
    {
     "data": {
      "text/plain": [
       "array([[[ 1,  2,  3],\n",
       "        [ 4,  5,  6],\n",
       "        [ 7,  8,  9]],\n",
       "\n",
       "       [[10, 11, 12],\n",
       "        [13, 14, 15],\n",
       "        [16, 17, 18]]])"
      ]
     },
     "execution_count": 27,
     "metadata": {},
     "output_type": "execute_result"
    }
   ],
   "source": [
    "a3"
   ]
  },
  {
   "cell_type": "code",
   "execution_count": 31,
   "id": "2831b1ff-1f29-428b-a571-6b59554fb75d",
   "metadata": {},
   "outputs": [],
   "source": [
    "##note a1 has shape = (1,3) meaning 1 row 3 columns --> Vector --> One dimensional Array"
   ]
  },
  {
   "cell_type": "code",
   "execution_count": 32,
   "id": "0d054a8a-8c19-4505-8fdc-81da674707eb",
   "metadata": {},
   "outputs": [],
   "source": [
    "##note a2 has shape = (2,3) 2 rows 3 columns"
   ]
  },
  {
   "cell_type": "markdown",
   "id": "8c1df7c1-63f4-439b-85d7-7523caf4abfb",
   "metadata": {},
   "source": [
    "##Lets look at the Attributes associated with Numpy"
   ]
  },
  {
   "cell_type": "code",
   "execution_count": 34,
   "id": "7694b99e-d0a1-4e2a-895b-f6d8846d2f04",
   "metadata": {},
   "outputs": [],
   "source": [
    "##Shape"
   ]
  },
  {
   "cell_type": "code",
   "execution_count": 36,
   "id": "346f3ef3-fd99-4f07-ac2c-def1726ff07e",
   "metadata": {},
   "outputs": [
    {
     "data": {
      "text/plain": [
       "(2, 3, 3)"
      ]
     },
     "execution_count": 36,
     "metadata": {},
     "output_type": "execute_result"
    }
   ],
   "source": [
    "\n",
    "a3.shape"
   ]
  },
  {
   "cell_type": "code",
   "execution_count": 37,
   "id": "676d6244-afef-4a3e-b56e-746b7ffc264a",
   "metadata": {},
   "outputs": [],
   "source": [
    "##Dtype attribute"
   ]
  },
  {
   "cell_type": "code",
   "execution_count": 38,
   "id": "957ca0b4-ac23-4a42-bb60-f560e903c425",
   "metadata": {},
   "outputs": [
    {
     "data": {
      "text/plain": [
       "dtype('int32')"
      ]
     },
     "execution_count": 38,
     "metadata": {},
     "output_type": "execute_result"
    }
   ],
   "source": [
    "a1.dtype"
   ]
  },
  {
   "cell_type": "code",
   "execution_count": 39,
   "id": "c5544942-600b-4e05-9a0d-1f2e5b46a695",
   "metadata": {},
   "outputs": [
    {
     "data": {
      "text/plain": [
       "dtype('float64')"
      ]
     },
     "execution_count": 39,
     "metadata": {},
     "output_type": "execute_result"
    }
   ],
   "source": [
    "a2.dtype"
   ]
  },
  {
   "cell_type": "code",
   "execution_count": 40,
   "id": "845547df-c314-4ed5-a95c-c4c88e0e34db",
   "metadata": {},
   "outputs": [
    {
     "data": {
      "text/plain": [
       "3"
      ]
     },
     "execution_count": 40,
     "metadata": {},
     "output_type": "execute_result"
    }
   ],
   "source": [
    "a1.size"
   ]
  },
  {
   "cell_type": "code",
   "execution_count": 41,
   "id": "b08258c7-b78e-4655-8bcb-a2a1d071055c",
   "metadata": {},
   "outputs": [
    {
     "data": {
      "text/plain": [
       "6"
      ]
     },
     "execution_count": 41,
     "metadata": {},
     "output_type": "execute_result"
    }
   ],
   "source": [
    "a2.size"
   ]
  },
  {
   "cell_type": "code",
   "execution_count": 44,
   "id": "6da1f8e5-957f-4b83-a324-6ff4d3e23864",
   "metadata": {},
   "outputs": [
    {
     "data": {
      "text/plain": [
       "18"
      ]
     },
     "execution_count": 44,
     "metadata": {},
     "output_type": "execute_result"
    }
   ],
   "source": [
    "a3.size ##Tell us how many total elements in our array"
   ]
  },
  {
   "cell_type": "code",
   "execution_count": 45,
   "id": "ba82ebda-c6af-4c3b-b5be-0be70406558a",
   "metadata": {},
   "outputs": [],
   "source": [
    "##Type attribute"
   ]
  },
  {
   "cell_type": "code",
   "execution_count": 46,
   "id": "407fddd7-4277-495b-bdc5-161f42b92098",
   "metadata": {},
   "outputs": [
    {
     "data": {
      "text/plain": [
       "numpy.ndarray"
      ]
     },
     "execution_count": 46,
     "metadata": {},
     "output_type": "execute_result"
    }
   ],
   "source": [
    "type(a1)\n"
   ]
  },
  {
   "cell_type": "code",
   "execution_count": 47,
   "id": "ab2b1866-4397-42af-8975-922982a00869",
   "metadata": {},
   "outputs": [],
   "source": [
    "##NDARRAY IS A VERY FLEXIBLE AND UNIVERSAL DATATYPE"
   ]
  },
  {
   "cell_type": "markdown",
   "id": "5b94b43c-3697-4a14-897f-aebc227902bb",
   "metadata": {},
   "source": [
    "##We will now create a DataFrame from a NumPy Array"
   ]
  },
  {
   "cell_type": "code",
   "execution_count": 49,
   "id": "85fab8d7-7124-490d-9886-7b5f8a03c440",
   "metadata": {},
   "outputs": [],
   "source": [
    "import pandas as pd"
   ]
  },
  {
   "cell_type": "code",
   "execution_count": 50,
   "id": "9e9ef841-ff28-409e-86ed-42ac0875f201",
   "metadata": {},
   "outputs": [],
   "source": [
    "df = pd.DataFrame(a2)"
   ]
  },
  {
   "cell_type": "code",
   "execution_count": 52,
   "id": "cca3cc78-9f46-44d5-8157-2b77d0f87429",
   "metadata": {},
   "outputs": [
    {
     "data": {
      "text/html": [
       "<div>\n",
       "<style scoped>\n",
       "    .dataframe tbody tr th:only-of-type {\n",
       "        vertical-align: middle;\n",
       "    }\n",
       "\n",
       "    .dataframe tbody tr th {\n",
       "        vertical-align: top;\n",
       "    }\n",
       "\n",
       "    .dataframe thead th {\n",
       "        text-align: right;\n",
       "    }\n",
       "</style>\n",
       "<table border=\"1\" class=\"dataframe\">\n",
       "  <thead>\n",
       "    <tr style=\"text-align: right;\">\n",
       "      <th></th>\n",
       "      <th>0</th>\n",
       "      <th>1</th>\n",
       "      <th>2</th>\n",
       "    </tr>\n",
       "  </thead>\n",
       "  <tbody>\n",
       "    <tr>\n",
       "      <th>0</th>\n",
       "      <td>1.0</td>\n",
       "      <td>2.0</td>\n",
       "      <td>3.3</td>\n",
       "    </tr>\n",
       "    <tr>\n",
       "      <th>1</th>\n",
       "      <td>4.0</td>\n",
       "      <td>5.0</td>\n",
       "      <td>6.5</td>\n",
       "    </tr>\n",
       "  </tbody>\n",
       "</table>\n",
       "</div>"
      ],
      "text/plain": [
       "     0    1    2\n",
       "0  1.0  2.0  3.3\n",
       "1  4.0  5.0  6.5"
      ]
     },
     "execution_count": 52,
     "metadata": {},
     "output_type": "execute_result"
    }
   ],
   "source": [
    "df ##Officially a dataframe"
   ]
  },
  {
   "cell_type": "markdown",
   "id": "ccb73dca-2d49-47a9-ade1-00bc615f6b2d",
   "metadata": {},
   "source": [
    "##2. Creating array"
   ]
  },
  {
   "cell_type": "code",
   "execution_count": 53,
   "id": "2f5d0bf1-4588-437a-812c-a58477d36738",
   "metadata": {},
   "outputs": [],
   "source": [
    "sample_array = np.array([1,2,3])"
   ]
  },
  {
   "cell_type": "code",
   "execution_count": 54,
   "id": "445d14b5-3ae0-4e7c-885b-11a10b9b5bca",
   "metadata": {},
   "outputs": [
    {
     "data": {
      "text/plain": [
       "array([1, 2, 3])"
      ]
     },
     "execution_count": 54,
     "metadata": {},
     "output_type": "execute_result"
    }
   ],
   "source": [
    "sample_array"
   ]
  },
  {
   "cell_type": "code",
   "execution_count": 56,
   "id": "3a30499a-3199-4f41-be7c-f1e5a9e33910",
   "metadata": {},
   "outputs": [
    {
     "data": {
      "text/plain": [
       "dtype('int32')"
      ]
     },
     "execution_count": 56,
     "metadata": {},
     "output_type": "execute_result"
    }
   ],
   "source": [
    "sample_array.dtype"
   ]
  },
  {
   "cell_type": "code",
   "execution_count": 57,
   "id": "5674534d-3af6-4a72-9811-275315c77390",
   "metadata": {},
   "outputs": [],
   "source": [
    "ones = np.ones((2,3))   ##type function + shift + tab opens up function documntation window"
   ]
  },
  {
   "cell_type": "code",
   "execution_count": 61,
   "id": "28474207-00bf-4cdd-9f99-884081ae7f40",
   "metadata": {},
   "outputs": [
    {
     "data": {
      "text/plain": [
       "array([[1., 1., 1.],\n",
       "       [1., 1., 1.]])"
      ]
     },
     "execution_count": 61,
     "metadata": {},
     "output_type": "execute_result"
    }
   ],
   "source": [
    "ones ##array filled with ones"
   ]
  },
  {
   "cell_type": "code",
   "execution_count": 62,
   "id": "47d437f7-7483-413b-ab1c-63e23582544d",
   "metadata": {},
   "outputs": [
    {
     "data": {
      "text/plain": [
       "dtype('float64')"
      ]
     },
     "execution_count": 62,
     "metadata": {},
     "output_type": "execute_result"
    }
   ],
   "source": [
    "ones.dtype"
   ]
  },
  {
   "cell_type": "code",
   "execution_count": 63,
   "id": "6725190b-58ea-4f61-a0d7-0b2461f082b7",
   "metadata": {},
   "outputs": [],
   "source": [
    "zeros = np.zeros((2,3)) ##array filled with Zeroes"
   ]
  },
  {
   "cell_type": "code",
   "execution_count": 64,
   "id": "9be82720-4f41-4753-a240-f219e5fb3b8e",
   "metadata": {},
   "outputs": [
    {
     "data": {
      "text/plain": [
       "array([[0., 0., 0.],\n",
       "       [0., 0., 0.]])"
      ]
     },
     "execution_count": 64,
     "metadata": {},
     "output_type": "execute_result"
    }
   ],
   "source": [
    "zeros"
   ]
  },
  {
   "cell_type": "code",
   "execution_count": 65,
   "id": "a505488c-6dbd-45c9-9f51-b79937e2ef89",
   "metadata": {},
   "outputs": [],
   "source": [
    "range_array = np.arange(0,10,2) "
   ]
  },
  {
   "cell_type": "code",
   "execution_count": 66,
   "id": "f3cb0f1a-d34f-4ad1-849c-14e0118561de",
   "metadata": {},
   "outputs": [
    {
     "data": {
      "text/plain": [
       "array([0, 2, 4, 6, 8])"
      ]
     },
     "execution_count": 66,
     "metadata": {},
     "output_type": "execute_result"
    }
   ],
   "source": [
    "range_array"
   ]
  },
  {
   "cell_type": "code",
   "execution_count": 67,
   "id": "6237c33b-ab93-4544-9083-eb77de45e0cb",
   "metadata": {},
   "outputs": [],
   "source": [
    "random_array = np.random.randint(0,10, size=(3,5))"
   ]
  },
  {
   "cell_type": "code",
   "execution_count": 68,
   "id": "03cdef05-dfe8-4d54-a70f-7ff8cf227105",
   "metadata": {},
   "outputs": [
    {
     "data": {
      "text/plain": [
       "array([[6, 6, 9, 9, 4],\n",
       "       [2, 6, 3, 7, 1],\n",
       "       [5, 2, 9, 7, 0]])"
      ]
     },
     "execution_count": 68,
     "metadata": {},
     "output_type": "execute_result"
    }
   ],
   "source": [
    "random_array"
   ]
  },
  {
   "cell_type": "code",
   "execution_count": 70,
   "id": "61565b01-85b3-4853-9557-6a428f86d997",
   "metadata": {},
   "outputs": [
    {
     "data": {
      "text/plain": [
       "15"
      ]
     },
     "execution_count": 70,
     "metadata": {},
     "output_type": "execute_result"
    }
   ],
   "source": [
    "random_array.size"
   ]
  },
  {
   "cell_type": "code",
   "execution_count": 71,
   "id": "216ca0d0-1c71-43df-bb7e-2766cbb9df72",
   "metadata": {},
   "outputs": [
    {
     "data": {
      "text/plain": [
       "dtype('int32')"
      ]
     },
     "execution_count": 71,
     "metadata": {},
     "output_type": "execute_result"
    }
   ],
   "source": [
    "random_array.dtype"
   ]
  },
  {
   "cell_type": "code",
   "execution_count": 75,
   "id": "8d046bc4-9303-429b-8e4c-750a9a55e22e",
   "metadata": {},
   "outputs": [],
   "source": [
    "random_array2 = np.random.random((5,3))  ##Alternative way to generate random array"
   ]
  },
  {
   "cell_type": "code",
   "execution_count": 74,
   "id": "12708186-3368-4384-aae8-7edd12ca782d",
   "metadata": {},
   "outputs": [
    {
     "data": {
      "text/plain": [
       "array([[0.87741925, 0.87289445, 0.27514694],\n",
       "       [0.26345236, 0.82334431, 0.65844928],\n",
       "       [0.45191014, 0.25666214, 0.70372942],\n",
       "       [0.71115205, 0.29335736, 0.85176883],\n",
       "       [0.94502419, 0.35241206, 0.15275734]])"
      ]
     },
     "execution_count": 74,
     "metadata": {},
     "output_type": "execute_result"
    }
   ],
   "source": [
    "random_array2"
   ]
  },
  {
   "cell_type": "code",
   "execution_count": 76,
   "id": "d3bf0c42-bc6d-4d8e-8c41-374a4f3a1e91",
   "metadata": {},
   "outputs": [
    {
     "data": {
      "text/plain": [
       "(5, 3)"
      ]
     },
     "execution_count": 76,
     "metadata": {},
     "output_type": "execute_result"
    }
   ],
   "source": [
    "random_array2.shape"
   ]
  },
  {
   "cell_type": "code",
   "execution_count": 79,
   "id": "bed4d2b0-4068-440a-9040-353c64fcd50c",
   "metadata": {},
   "outputs": [],
   "source": [
    "random_array3 = np.random.rand(5,3)  ##Alterntive way to generate random array"
   ]
  },
  {
   "cell_type": "code",
   "execution_count": 80,
   "id": "e9519816-18c0-4656-89d7-61ce9360dec2",
   "metadata": {},
   "outputs": [
    {
     "data": {
      "text/plain": [
       "array([[0.32557247, 0.85497081, 0.42728483],\n",
       "       [0.19530788, 0.62508112, 0.52629784],\n",
       "       [0.56005197, 0.87964183, 0.12119208],\n",
       "       [0.26865594, 0.8161645 , 0.61248167],\n",
       "       [0.74987147, 0.95542273, 0.54934382]])"
      ]
     },
     "execution_count": 80,
     "metadata": {},
     "output_type": "execute_result"
    }
   ],
   "source": [
    "random_array3"
   ]
  },
  {
   "cell_type": "code",
   "execution_count": 81,
   "id": "c925a39a-9b1b-4146-b39a-d4f5396825ff",
   "metadata": {},
   "outputs": [],
   "source": [
    "##np.random.seed() ##Pseudo-Random numbers"
   ]
  },
  {
   "cell_type": "code",
   "execution_count": 92,
   "id": "9dfa563a-08ae-44dc-8246-ec3cc7d74743",
   "metadata": {},
   "outputs": [],
   "source": [
    "random_array4 = np.random.randint(10, size=(5,3))"
   ]
  },
  {
   "cell_type": "code",
   "execution_count": 93,
   "id": "919f44fc-51d2-4f6b-9434-85078d17514b",
   "metadata": {},
   "outputs": [
    {
     "data": {
      "text/plain": [
       "array([[1, 8, 2],\n",
       "       [6, 0, 5],\n",
       "       [5, 5, 3],\n",
       "       [2, 4, 2],\n",
       "       [6, 1, 5]])"
      ]
     },
     "execution_count": 93,
     "metadata": {},
     "output_type": "execute_result"
    }
   ],
   "source": [
    "random_array4"
   ]
  },
  {
   "cell_type": "code",
   "execution_count": 86,
   "id": "21a7677e-5c98-49bb-ba08-c37c0b6fe4f2",
   "metadata": {},
   "outputs": [
    {
     "data": {
      "text/plain": [
       "(5, 3)"
      ]
     },
     "execution_count": 86,
     "metadata": {},
     "output_type": "execute_result"
    }
   ],
   "source": [
    "random_array4.shape"
   ]
  },
  {
   "cell_type": "code",
   "execution_count": 87,
   "id": "91c4e746-47fa-43d1-8b41-03f5be622b73",
   "metadata": {},
   "outputs": [],
   "source": [
    "##Random.seed() allows us to generate reusable random numbers"
   ]
  },
  {
   "cell_type": "code",
   "execution_count": 94,
   "id": "65bcdb23-6f7e-49d2-8113-5ea0a293932e",
   "metadata": {},
   "outputs": [],
   "source": [
    "##Pseudo-Random using random.seed()"
   ]
  },
  {
   "cell_type": "code",
   "execution_count": 99,
   "id": "9c0cf2dd-eab4-421c-9886-7c2c4a675036",
   "metadata": {},
   "outputs": [
    {
     "data": {
      "text/plain": [
       "array([[5, 0, 3],\n",
       "       [3, 7, 9],\n",
       "       [3, 5, 2],\n",
       "       [4, 7, 6],\n",
       "       [8, 8, 1]])"
      ]
     },
     "execution_count": 99,
     "metadata": {},
     "output_type": "execute_result"
    }
   ],
   "source": [
    "np.random.seed(seed=0) ##Works with mutlliple random functions\n",
    "random_array4 = np.random.randint(10, size=(5,3)) ##By executing you can see that the samesequence of random numbers is generated\n",
    "random_array4"
   ]
  },
  {
   "cell_type": "code",
   "execution_count": 100,
   "id": "78ba6b34-1a84-47de-97ee-9a25201ffa05",
   "metadata": {},
   "outputs": [],
   "source": [
    "##Now we take a look at viewing arrays and matrices"
   ]
  },
  {
   "cell_type": "markdown",
   "id": "3f977d00-914e-4d83-9cf6-7ea21c3b7464",
   "metadata": {},
   "source": [
    "##3. Viewing arrays and matrices"
   ]
  },
  {
   "cell_type": "code",
   "execution_count": 102,
   "id": "76760709-e466-44df-a39f-5dd58e7c2e87",
   "metadata": {},
   "outputs": [],
   "source": [
    "##How to find unique  numbers from a random array"
   ]
  },
  {
   "cell_type": "code",
   "execution_count": 103,
   "id": "3042c8b7-47de-43a9-bd70-2a9eaaceb747",
   "metadata": {},
   "outputs": [
    {
     "data": {
      "text/plain": [
       "array([0, 1, 2, 3, 4, 5, 6, 7, 8, 9])"
      ]
     },
     "execution_count": 103,
     "metadata": {},
     "output_type": "execute_result"
    }
   ],
   "source": [
    "np.unique(random_array4)"
   ]
  },
  {
   "cell_type": "code",
   "execution_count": 104,
   "id": "6aa87028-d420-4448-8b90-abbe7a368aa5",
   "metadata": {},
   "outputs": [
    {
     "data": {
      "text/plain": [
       "array([1, 2, 3])"
      ]
     },
     "execution_count": 104,
     "metadata": {},
     "output_type": "execute_result"
    }
   ],
   "source": [
    "a1"
   ]
  },
  {
   "cell_type": "code",
   "execution_count": 105,
   "id": "1d5f5637-a447-457b-bcf5-5e7505ab634f",
   "metadata": {},
   "outputs": [
    {
     "data": {
      "text/plain": [
       "array([[1. , 2. , 3.3],\n",
       "       [4. , 5. , 6.5]])"
      ]
     },
     "execution_count": 105,
     "metadata": {},
     "output_type": "execute_result"
    }
   ],
   "source": [
    "a2"
   ]
  },
  {
   "cell_type": "code",
   "execution_count": 106,
   "id": "3a7a8b53-978e-4df6-8840-5e08515ed1c2",
   "metadata": {},
   "outputs": [
    {
     "data": {
      "text/plain": [
       "array([[[ 1,  2,  3],\n",
       "        [ 4,  5,  6],\n",
       "        [ 7,  8,  9]],\n",
       "\n",
       "       [[10, 11, 12],\n",
       "        [13, 14, 15],\n",
       "        [16, 17, 18]]])"
      ]
     },
     "execution_count": 106,
     "metadata": {},
     "output_type": "execute_result"
    }
   ],
   "source": [
    "a3"
   ]
  },
  {
   "cell_type": "code",
   "execution_count": 107,
   "id": "0eb09d9b-0a6a-4255-810b-dc094a976214",
   "metadata": {},
   "outputs": [
    {
     "data": {
      "text/plain": [
       "1"
      ]
     },
     "execution_count": 107,
     "metadata": {},
     "output_type": "execute_result"
    }
   ],
   "source": [
    "a1[0]"
   ]
  },
  {
   "cell_type": "code",
   "execution_count": 108,
   "id": "e6caf7df-a60c-4d03-89c7-84b22efb9739",
   "metadata": {},
   "outputs": [
    {
     "data": {
      "text/plain": [
       "array([1. , 2. , 3.3])"
      ]
     },
     "execution_count": 108,
     "metadata": {},
     "output_type": "execute_result"
    }
   ],
   "source": [
    "a2[0]"
   ]
  },
  {
   "cell_type": "code",
   "execution_count": 109,
   "id": "f0924800-fb04-46d6-bb05-c7cb244a4ca4",
   "metadata": {},
   "outputs": [
    {
     "data": {
      "text/plain": [
       "array([[1, 2, 3],\n",
       "       [4, 5, 6],\n",
       "       [7, 8, 9]])"
      ]
     },
     "execution_count": 109,
     "metadata": {},
     "output_type": "execute_result"
    }
   ],
   "source": [
    "a3[0]\n"
   ]
  },
  {
   "cell_type": "code",
   "execution_count": 110,
   "id": "3fbd88d4-08d5-4363-8a35-fe0b0da5d43f",
   "metadata": {},
   "outputs": [
    {
     "data": {
      "text/plain": [
       "(2, 3, 3)"
      ]
     },
     "execution_count": 110,
     "metadata": {},
     "output_type": "execute_result"
    }
   ],
   "source": [
    "a3.shape"
   ]
  },
  {
   "cell_type": "code",
   "execution_count": 111,
   "id": "ae3c0503-04a6-4b39-afa9-1e282d7a17f7",
   "metadata": {},
   "outputs": [
    {
     "data": {
      "text/plain": [
       "array([[[ 1,  2],\n",
       "        [ 4,  5]],\n",
       "\n",
       "       [[10, 11],\n",
       "        [13, 14]]])"
      ]
     },
     "execution_count": 111,
     "metadata": {},
     "output_type": "execute_result"
    }
   ],
   "source": [
    "a3[:2, :2, :2]"
   ]
  },
  {
   "cell_type": "code",
   "execution_count": 112,
   "id": "010d1d1b-b2cb-47fc-807d-b541b47fa4db",
   "metadata": {},
   "outputs": [],
   "source": [
    "a4 = np.random.randint(10, size=(2,3,4,5))"
   ]
  },
  {
   "cell_type": "code",
   "execution_count": 113,
   "id": "cbdbbceb-08e1-4145-b7bf-a2d27115b4d6",
   "metadata": {},
   "outputs": [
    {
     "data": {
      "text/plain": [
       "array([[[[6, 7, 7, 8, 1],\n",
       "         [5, 9, 8, 9, 4],\n",
       "         [3, 0, 3, 5, 0],\n",
       "         [2, 3, 8, 1, 3]],\n",
       "\n",
       "        [[3, 3, 7, 0, 1],\n",
       "         [9, 9, 0, 4, 7],\n",
       "         [3, 2, 7, 2, 0],\n",
       "         [0, 4, 5, 5, 6]],\n",
       "\n",
       "        [[8, 4, 1, 4, 9],\n",
       "         [8, 1, 1, 7, 9],\n",
       "         [9, 3, 6, 7, 2],\n",
       "         [0, 3, 5, 9, 4]]],\n",
       "\n",
       "\n",
       "       [[[4, 6, 4, 4, 3],\n",
       "         [4, 4, 8, 4, 3],\n",
       "         [7, 5, 5, 0, 1],\n",
       "         [5, 9, 3, 0, 5]],\n",
       "\n",
       "        [[0, 1, 2, 4, 2],\n",
       "         [0, 3, 2, 0, 7],\n",
       "         [5, 9, 0, 2, 7],\n",
       "         [2, 9, 2, 3, 3]],\n",
       "\n",
       "        [[2, 3, 4, 1, 2],\n",
       "         [9, 1, 4, 6, 8],\n",
       "         [2, 3, 0, 0, 6],\n",
       "         [0, 6, 3, 3, 8]]]])"
      ]
     },
     "execution_count": 113,
     "metadata": {},
     "output_type": "execute_result"
    }
   ],
   "source": [
    "a4"
   ]
  },
  {
   "cell_type": "code",
   "execution_count": 114,
   "id": "e23fb34e-468c-4f49-8293-646869b006cf",
   "metadata": {},
   "outputs": [
    {
     "data": {
      "text/plain": [
       "((2, 3, 4, 5), 4)"
      ]
     },
     "execution_count": 114,
     "metadata": {},
     "output_type": "execute_result"
    }
   ],
   "source": [
    "a4.shape, a4.ndim"
   ]
  },
  {
   "cell_type": "code",
   "execution_count": 115,
   "id": "134c5c77-f7c4-4b17-a050-803863941ab5",
   "metadata": {},
   "outputs": [],
   "source": [
    "##Now we take a look at how we can try and access only the first 4 numbers of a particular Vector"
   ]
  },
  {
   "cell_type": "code",
   "execution_count": 116,
   "id": "7abd4e26-82b3-4170-9a9c-37f16e79b4a7",
   "metadata": {},
   "outputs": [],
   "source": [
    "##Get the first 4 numbers of the inner most array"
   ]
  },
  {
   "cell_type": "code",
   "execution_count": 117,
   "id": "c78bafef-1676-43ba-b951-5b40caa2b440",
   "metadata": {},
   "outputs": [
    {
     "data": {
      "text/plain": [
       "array([[[[6, 7, 7, 8],\n",
       "         [5, 9, 8, 9],\n",
       "         [3, 0, 3, 5],\n",
       "         [2, 3, 8, 1]],\n",
       "\n",
       "        [[3, 3, 7, 0],\n",
       "         [9, 9, 0, 4],\n",
       "         [3, 2, 7, 2],\n",
       "         [0, 4, 5, 5]],\n",
       "\n",
       "        [[8, 4, 1, 4],\n",
       "         [8, 1, 1, 7],\n",
       "         [9, 3, 6, 7],\n",
       "         [0, 3, 5, 9]]],\n",
       "\n",
       "\n",
       "       [[[4, 6, 4, 4],\n",
       "         [4, 4, 8, 4],\n",
       "         [7, 5, 5, 0],\n",
       "         [5, 9, 3, 0]],\n",
       "\n",
       "        [[0, 1, 2, 4],\n",
       "         [0, 3, 2, 0],\n",
       "         [5, 9, 0, 2],\n",
       "         [2, 9, 2, 3]],\n",
       "\n",
       "        [[2, 3, 4, 1],\n",
       "         [9, 1, 4, 6],\n",
       "         [2, 3, 0, 0],\n",
       "         [0, 6, 3, 3]]]])"
      ]
     },
     "execution_count": 117,
     "metadata": {},
     "output_type": "execute_result"
    }
   ],
   "source": [
    "a4[:,:,:, :4]"
   ]
  },
  {
   "cell_type": "markdown",
   "id": "abef18b8-70e9-4d7f-bbbd-43a63761a760",
   "metadata": {},
   "source": [
    "##4. Manipulating and comparing arrays"
   ]
  },
  {
   "cell_type": "code",
   "execution_count": 118,
   "id": "faa8075d-6054-41f6-bbb4-642306bb7fb5",
   "metadata": {},
   "outputs": [],
   "source": [
    "###Arithmetic"
   ]
  },
  {
   "cell_type": "code",
   "execution_count": 119,
   "id": "2166bcb0-c2bd-4653-9a77-742b03e3d764",
   "metadata": {},
   "outputs": [
    {
     "data": {
      "text/plain": [
       "array([1, 2, 3])"
      ]
     },
     "execution_count": 119,
     "metadata": {},
     "output_type": "execute_result"
    }
   ],
   "source": [
    "a1"
   ]
  },
  {
   "cell_type": "code",
   "execution_count": 120,
   "id": "b41116d6-084d-492d-92d7-94758bb37dea",
   "metadata": {},
   "outputs": [
    {
     "data": {
      "text/plain": [
       "array([[1., 1., 1.],\n",
       "       [1., 1., 1.]])"
      ]
     },
     "execution_count": 120,
     "metadata": {},
     "output_type": "execute_result"
    }
   ],
   "source": [
    "ones"
   ]
  },
  {
   "cell_type": "code",
   "execution_count": 121,
   "id": "bb5bc6ed-68f5-4bef-a1f1-2560d72bc365",
   "metadata": {},
   "outputs": [
    {
     "data": {
      "text/plain": [
       "array([[2., 3., 4.],\n",
       "       [2., 3., 4.]])"
      ]
     },
     "execution_count": 121,
     "metadata": {},
     "output_type": "execute_result"
    }
   ],
   "source": [
    "a1+ones"
   ]
  },
  {
   "cell_type": "code",
   "execution_count": 122,
   "id": "b07a3d7e-4f4e-459a-834b-83d28d8eb156",
   "metadata": {},
   "outputs": [
    {
     "data": {
      "text/plain": [
       "array([[0., 1., 2.],\n",
       "       [0., 1., 2.]])"
      ]
     },
     "execution_count": 122,
     "metadata": {},
     "output_type": "execute_result"
    }
   ],
   "source": [
    "a1-ones"
   ]
  },
  {
   "cell_type": "code",
   "execution_count": 123,
   "id": "174d57a6-b694-428b-bf54-a1a96bd3c427",
   "metadata": {},
   "outputs": [
    {
     "data": {
      "text/plain": [
       "array([[1., 2., 3.],\n",
       "       [1., 2., 3.]])"
      ]
     },
     "execution_count": 123,
     "metadata": {},
     "output_type": "execute_result"
    }
   ],
   "source": [
    "a1*ones"
   ]
  },
  {
   "cell_type": "code",
   "execution_count": 124,
   "id": "422e93bc-b370-4057-bf46-67ba77212a09",
   "metadata": {},
   "outputs": [
    {
     "data": {
      "text/plain": [
       "array([[1. , 2. , 3.3],\n",
       "       [4. , 5. , 6.5]])"
      ]
     },
     "execution_count": 124,
     "metadata": {},
     "output_type": "execute_result"
    }
   ],
   "source": [
    "a2"
   ]
  },
  {
   "cell_type": "code",
   "execution_count": 125,
   "id": "49565874-77c8-4e88-9b9d-7c4963e7f1d4",
   "metadata": {},
   "outputs": [
    {
     "data": {
      "text/plain": [
       "array([[ 1. ,  4. ,  9.9],\n",
       "       [ 4. , 10. , 19.5]])"
      ]
     },
     "execution_count": 125,
     "metadata": {},
     "output_type": "execute_result"
    }
   ],
   "source": [
    "a1*a2"
   ]
  },
  {
   "cell_type": "code",
   "execution_count": 126,
   "id": "a1870305-9374-465d-b6eb-1943d94ad57c",
   "metadata": {},
   "outputs": [
    {
     "data": {
      "text/plain": [
       "array([[[ 1,  2,  3],\n",
       "        [ 4,  5,  6],\n",
       "        [ 7,  8,  9]],\n",
       "\n",
       "       [[10, 11, 12],\n",
       "        [13, 14, 15],\n",
       "        [16, 17, 18]]])"
      ]
     },
     "execution_count": 126,
     "metadata": {},
     "output_type": "execute_result"
    }
   ],
   "source": [
    "a3"
   ]
  },
  {
   "cell_type": "markdown",
   "id": "d360e4fd-84a2-4eb8-84be-ed3d23653288",
   "metadata": {},
   "source": [
    "a2*a3(produces error) ##Broadcasting rules: how numpy treats arithmetic with differen arrays(need to have compatible shapes/dimensions)"
   ]
  },
  {
   "cell_type": "code",
   "execution_count": 129,
   "id": "318beee6-9a75-4441-8af8-498c658ec6c7",
   "metadata": {},
   "outputs": [
    {
     "data": {
      "text/plain": [
       "array([[1., 2., 3.],\n",
       "       [1., 2., 3.]])"
      ]
     },
     "execution_count": 129,
     "metadata": {},
     "output_type": "execute_result"
    }
   ],
   "source": [
    "a1/ones"
   ]
  },
  {
   "cell_type": "code",
   "execution_count": 130,
   "id": "76cece2b-df43-4891-a6b5-bb3040e1f68d",
   "metadata": {},
   "outputs": [
    {
     "data": {
      "text/plain": [
       "array([[1.        , 1.        , 1.1       ],\n",
       "       [4.        , 2.5       , 2.16666667]])"
      ]
     },
     "execution_count": 130,
     "metadata": {},
     "output_type": "execute_result"
    }
   ],
   "source": [
    "a2/a1"
   ]
  },
  {
   "cell_type": "code",
   "execution_count": 131,
   "id": "a11f761e-b1a2-48dd-b432-f2e9903ce1e4",
   "metadata": {},
   "outputs": [],
   "source": [
    "##Floor division removes decimals(rounds down)"
   ]
  },
  {
   "cell_type": "code",
   "execution_count": 132,
   "id": "3861dbb9-79b2-4950-855d-19966b5b43c7",
   "metadata": {},
   "outputs": [
    {
     "data": {
      "text/plain": [
       "array([[1., 1., 1.],\n",
       "       [4., 2., 2.]])"
      ]
     },
     "execution_count": 132,
     "metadata": {},
     "output_type": "execute_result"
    }
   ],
   "source": [
    "a2//a1"
   ]
  },
  {
   "cell_type": "code",
   "execution_count": 134,
   "id": "4d31981e-f010-42b6-873a-f52cc9f5fba4",
   "metadata": {},
   "outputs": [
    {
     "data": {
      "text/plain": [
       "array([[ 1.  ,  4.  , 10.89],\n",
       "       [16.  , 25.  , 42.25]])"
      ]
     },
     "execution_count": 134,
     "metadata": {},
     "output_type": "execute_result"
    }
   ],
   "source": [
    "a2**2 ##To the power 2"
   ]
  },
  {
   "cell_type": "code",
   "execution_count": 135,
   "id": "9583a760-f97c-4279-a44f-965904f8a3cb",
   "metadata": {},
   "outputs": [
    {
     "data": {
      "text/plain": [
       "array([[ 1.  ,  4.  , 10.89],\n",
       "       [16.  , 25.  , 42.25]])"
      ]
     },
     "execution_count": 135,
     "metadata": {},
     "output_type": "execute_result"
    }
   ],
   "source": [
    "np.square(a2)"
   ]
  },
  {
   "cell_type": "code",
   "execution_count": 136,
   "id": "88a21d33-0a26-4264-ad5f-9c191c85eafc",
   "metadata": {},
   "outputs": [
    {
     "data": {
      "text/plain": [
       "array([1, 0, 1], dtype=int32)"
      ]
     },
     "execution_count": 136,
     "metadata": {},
     "output_type": "execute_result"
    }
   ],
   "source": [
    "a1%2 ##shows us remainders"
   ]
  },
  {
   "cell_type": "code",
   "execution_count": 137,
   "id": "b92d586f-ccf3-45f2-9269-3b9294d9cff7",
   "metadata": {},
   "outputs": [
    {
     "data": {
      "text/plain": [
       "array([0.5, 1. , 1.5])"
      ]
     },
     "execution_count": 137,
     "metadata": {},
     "output_type": "execute_result"
    }
   ],
   "source": [
    "a1/2"
   ]
  },
  {
   "cell_type": "code",
   "execution_count": 139,
   "id": "75b6eead-94d1-48c7-bdf6-81a5a26869fd",
   "metadata": {},
   "outputs": [
    {
     "data": {
      "text/plain": [
       "array([ 2.71828183,  7.3890561 , 20.08553692])"
      ]
     },
     "execution_count": 139,
     "metadata": {},
     "output_type": "execute_result"
    }
   ],
   "source": [
    "np.exp(a1) ##Exponential"
   ]
  },
  {
   "cell_type": "code",
   "execution_count": 140,
   "id": "2bc52721-12cd-4c5f-ae72-80ae263bc9fd",
   "metadata": {},
   "outputs": [
    {
     "data": {
      "text/plain": [
       "array([0.        , 0.69314718, 1.09861229])"
      ]
     },
     "execution_count": 140,
     "metadata": {},
     "output_type": "execute_result"
    }
   ],
   "source": [
    "np.log(a1) ##Returns log"
   ]
  },
  {
   "cell_type": "markdown",
   "id": "7f621dba-296b-4c55-930a-97d0fd525db7",
   "metadata": {},
   "source": [
    "##Aggregation"
   ]
  },
  {
   "cell_type": "code",
   "execution_count": 141,
   "id": "d68ca58e-d19f-4b7a-bb41-3ee599af7191",
   "metadata": {},
   "outputs": [],
   "source": [
    "##Aggregation: perfoming the same operatio on a number of items/things"
   ]
  },
  {
   "cell_type": "code",
   "execution_count": 142,
   "id": "45586757-49a1-4ce9-a072-ec1c6816c3a4",
   "metadata": {},
   "outputs": [],
   "source": [
    "listy_list = [1,2,3]"
   ]
  },
  {
   "cell_type": "code",
   "execution_count": 143,
   "id": "dcdd41f5-421a-45b7-b890-afe166e6a168",
   "metadata": {},
   "outputs": [
    {
     "data": {
      "text/plain": [
       "list"
      ]
     },
     "execution_count": 143,
     "metadata": {},
     "output_type": "execute_result"
    }
   ],
   "source": [
    "type(listy_list)"
   ]
  },
  {
   "cell_type": "code",
   "execution_count": 144,
   "id": "f1695a28-fdab-447d-88e3-85882f60a534",
   "metadata": {},
   "outputs": [
    {
     "data": {
      "text/plain": [
       "6"
      ]
     },
     "execution_count": 144,
     "metadata": {},
     "output_type": "execute_result"
    }
   ],
   "source": [
    "sum(listy_list)"
   ]
  },
  {
   "cell_type": "code",
   "execution_count": 145,
   "id": "7d1f8398-218a-4d5c-9355-4c9fd02be5e1",
   "metadata": {},
   "outputs": [
    {
     "data": {
      "text/plain": [
       "array([1, 2, 3])"
      ]
     },
     "execution_count": 145,
     "metadata": {},
     "output_type": "execute_result"
    }
   ],
   "source": [
    "a1"
   ]
  },
  {
   "cell_type": "code",
   "execution_count": 146,
   "id": "f157fbb0-7368-48a6-9107-926e17ac672c",
   "metadata": {},
   "outputs": [
    {
     "data": {
      "text/plain": [
       "numpy.ndarray"
      ]
     },
     "execution_count": 146,
     "metadata": {},
     "output_type": "execute_result"
    }
   ],
   "source": [
    "type(a1)"
   ]
  },
  {
   "cell_type": "code",
   "execution_count": 147,
   "id": "16145a0a-aca8-4ead-b06a-76e27f58c3a6",
   "metadata": {},
   "outputs": [
    {
     "data": {
      "text/plain": [
       "6"
      ]
     },
     "execution_count": 147,
     "metadata": {},
     "output_type": "execute_result"
    }
   ],
   "source": [
    "sum(a1)\n"
   ]
  },
  {
   "cell_type": "code",
   "execution_count": 148,
   "id": "21452fc7-d2b7-42d3-988a-9e20fc40d398",
   "metadata": {},
   "outputs": [
    {
     "data": {
      "text/plain": [
       "6"
      ]
     },
     "execution_count": 148,
     "metadata": {},
     "output_type": "execute_result"
    }
   ],
   "source": [
    "np.sum(a1)"
   ]
  },
  {
   "cell_type": "markdown",
   "id": "84e93f04-b9c4-403e-bf3e-3e4dc4d24f8f",
   "metadata": {},
   "source": [
    "##Note---> Use python methods on python datatypes and use  use NumPy's methods on NumPy arrays"
   ]
  },
  {
   "cell_type": "code",
   "execution_count": 152,
   "id": "1d3b7ff1-644c-46e6-b493-835d2e3395ec",
   "metadata": {},
   "outputs": [],
   "source": [
    "##Create a massive NumPy array"
   ]
  },
  {
   "cell_type": "code",
   "execution_count": 153,
   "id": "0d06f803-b218-4c73-9c4c-e62e3b90cc42",
   "metadata": {},
   "outputs": [],
   "source": [
    "massive_array = np.random.random(100000)"
   ]
  },
  {
   "cell_type": "code",
   "execution_count": 154,
   "id": "46c7ce8e-23dd-483a-8185-672533014701",
   "metadata": {},
   "outputs": [
    {
     "data": {
      "text/plain": [
       "100000"
      ]
     },
     "execution_count": 154,
     "metadata": {},
     "output_type": "execute_result"
    }
   ],
   "source": [
    "massive_array.size"
   ]
  },
  {
   "cell_type": "code",
   "execution_count": 155,
   "id": "9b7e6c0f-b594-458f-be88-1833553a1660",
   "metadata": {},
   "outputs": [
    {
     "data": {
      "text/plain": [
       "array([0.16494046, 0.36980809, 0.14644176, 0.56961841, 0.70373728,\n",
       "       0.28847644, 0.43328806, 0.75610669, 0.39609828, 0.89603839])"
      ]
     },
     "execution_count": 155,
     "metadata": {},
     "output_type": "execute_result"
    }
   ],
   "source": [
    "massive_array[:10]"
   ]
  },
  {
   "cell_type": "code",
   "execution_count": 156,
   "id": "60113d53-26f5-444e-8443-1622e3c30a77",
   "metadata": {},
   "outputs": [
    {
     "name": "stdout",
     "output_type": "stream",
     "text": [
      "13.5 ms ± 644 μs per loop (mean ± std. dev. of 7 runs, 100 loops each)\n"
     ]
    }
   ],
   "source": [
    "%timeit sum(massive_array) ##Pythons's sum()"
   ]
  },
  {
   "cell_type": "code",
   "execution_count": 157,
   "id": "e71be2d2-e286-4aac-835b-bd57cf3fda8b",
   "metadata": {},
   "outputs": [
    {
     "name": "stdout",
     "output_type": "stream",
     "text": [
      "64.3 μs ± 1.21 μs per loop (mean ± std. dev. of 7 runs, 10,000 loops each)\n"
     ]
    }
   ],
   "source": [
    "%timeit np.sum(massive_array) ## NumPy's np.sum()"
   ]
  },
  {
   "cell_type": "code",
   "execution_count": 158,
   "id": "4fda6005-c5b9-4c47-a767-1e17b9ecdedb",
   "metadata": {},
   "outputs": [],
   "source": [
    "##NOTE NB NumPy's iteration is waaaayyyyyyy faster"
   ]
  },
  {
   "cell_type": "code",
   "execution_count": 160,
   "id": "3d69f2fa-dc6a-413f-80fa-a420dffa81bb",
   "metadata": {},
   "outputs": [
    {
     "data": {
      "text/plain": [
       "3.6333333333333333"
      ]
     },
     "execution_count": 160,
     "metadata": {},
     "output_type": "execute_result"
    }
   ],
   "source": [
    "np.mean(a2)"
   ]
  },
  {
   "cell_type": "code",
   "execution_count": 161,
   "id": "09f10253-d883-4983-b47f-92a5d1694446",
   "metadata": {},
   "outputs": [
    {
     "data": {
      "text/plain": [
       "1.0"
      ]
     },
     "execution_count": 161,
     "metadata": {},
     "output_type": "execute_result"
    }
   ],
   "source": [
    "np.min(a2)"
   ]
  },
  {
   "cell_type": "code",
   "execution_count": 163,
   "id": "6ceb79e7-c007-4ac5-a48d-215de6acf883",
   "metadata": {},
   "outputs": [
    {
     "data": {
      "text/plain": [
       "1.8226964152656422"
      ]
     },
     "execution_count": 163,
     "metadata": {},
     "output_type": "execute_result"
    }
   ],
   "source": [
    "np.std(a2) ##Standard deviation"
   ]
  },
  {
   "cell_type": "code",
   "execution_count": 165,
   "id": "56536c11-d390-4b6d-a06d-36bdf87ecfde",
   "metadata": {},
   "outputs": [
    {
     "data": {
      "text/plain": [
       "3.3222222222222224"
      ]
     },
     "execution_count": 165,
     "metadata": {},
     "output_type": "execute_result"
    }
   ],
   "source": [
    "np.var(a2) ##returns variance ,-----> Measure of the average degree to which each number is different from the mean"
   ]
  },
  {
   "cell_type": "raw",
   "id": "95c726b0-3868-401c-a1ee-5f96eb8331dc",
   "metadata": {},
   "source": [
    "##Higher Variance = wider range of numbers"
   ]
  },
  {
   "cell_type": "markdown",
   "id": "195074be-23d0-491b-98d5-c94c98bf0efc",
   "metadata": {},
   "source": [
    "##Lower variance = lower range of numbers"
   ]
  },
  {
   "cell_type": "code",
   "execution_count": 167,
   "id": "a41f5611-a188-4b9a-a6ee-15c68f3b883e",
   "metadata": {},
   "outputs": [],
   "source": [
    "##standard deviation = squareroot of variance"
   ]
  },
  {
   "cell_type": "markdown",
   "id": "425b713f-98dc-47c5-ad0d-7dbb1e571a4a",
   "metadata": {},
   "source": [
    "Demo of Std and Var"
   ]
  },
  {
   "cell_type": "code",
   "execution_count": 168,
   "id": "6df31701-35f9-4d3a-8091-34ec0804d01b",
   "metadata": {},
   "outputs": [],
   "source": [
    "high_var_array = np.array([1,100,200,300, 4000, 5000])\n",
    "low_var_array = np.array([2,4,6,8,10])"
   ]
  },
  {
   "cell_type": "code",
   "execution_count": 169,
   "id": "fcf3786d-9c91-4a82-9bb5-59d6bf85b09f",
   "metadata": {},
   "outputs": [
    {
     "data": {
      "text/plain": [
       "(4296133.472222221, 8.0)"
      ]
     },
     "execution_count": 169,
     "metadata": {},
     "output_type": "execute_result"
    }
   ],
   "source": [
    "np.var(high_var_array), np.var(low_var_array)"
   ]
  },
  {
   "cell_type": "code",
   "execution_count": 170,
   "id": "85eb44dd-f5fe-4f13-9a06-0e0337c771d4",
   "metadata": {},
   "outputs": [
    {
     "data": {
      "text/plain": [
       "(2072.711623024829, 2.8284271247461903)"
      ]
     },
     "execution_count": 170,
     "metadata": {},
     "output_type": "execute_result"
    }
   ],
   "source": [
    "np.std(high_var_array), np.std(low_var_array)"
   ]
  },
  {
   "cell_type": "code",
   "execution_count": 171,
   "id": "b30bf84f-318d-46b8-b12e-efc4ab42a211",
   "metadata": {},
   "outputs": [
    {
     "data": {
      "text/plain": [
       "(1600.1666666666667, 6.0)"
      ]
     },
     "execution_count": 171,
     "metadata": {},
     "output_type": "execute_result"
    }
   ],
   "source": [
    "np.mean(high_var_array), np.mean(low_var_array)"
   ]
  },
  {
   "cell_type": "code",
   "execution_count": 172,
   "id": "6a80cd21-f9d2-48a9-aa05-dd3248837f7f",
   "metadata": {},
   "outputs": [],
   "source": [
    "%matplotlib inline"
   ]
  },
  {
   "cell_type": "code",
   "execution_count": 173,
   "id": "8590b376-5f9a-4b4a-8e21-746e0256e12d",
   "metadata": {},
   "outputs": [
    {
     "data": {
      "image/png": "[encoded data removed]",
      "text/plain": [
       "<Figure size 640x480 with 1 Axes>"
      ]
     },
     "metadata": {},
     "output_type": "display_data"
    }
   ],
   "source": [
    "import matplotlib.pyplot as plt\n",
    "plt.hist(high_var_array)\n",
    "plt.show()"
   ]
  },
  {
   "cell_type": "code",
   "execution_count": 175,
   "id": "cf78e932-c2c6-4961-9283-5f13e8572d29",
   "metadata": {},
   "outputs": [
    {
     "data": {
      "image/png": "[encoded data removed]",
      "text/plain": [
       "<Figure size 640x480 with 1 Axes>"
      ]
     },
     "metadata": {},
     "output_type": "display_data"
    }
   ],
   "source": [
    "plt.hist(low_var_array)\n",
    "plt.show()"
   ]
  },
  {
   "cell_type": "code",
   "execution_count": 176,
   "id": "38d3802b-eb55-4279-bd32-bb8d479a9c47",
   "metadata": {},
   "outputs": [],
   "source": [
    "##standard deviation and variance are measures of spread of data (Rememeber!!!)"
   ]
  },
  {
   "cell_type": "markdown",
   "id": "dc4695e9-1fde-463a-8ea6-04dd97f8f0a5",
   "metadata": {},
   "source": [
    "Reshape and Transpose NB"
   ]
  },
  {
   "cell_type": "code",
   "execution_count": 177,
   "id": "31d29b38-fb67-48d2-9985-fde65690a1e8",
   "metadata": {},
   "outputs": [],
   "source": [
    "##Remember much of ML is reshaping and structuring data to fit into ML models"
   ]
  },
  {
   "cell_type": "code",
   "execution_count": 178,
   "id": "35825451-6098-4130-9c1b-a2452b44155f",
   "metadata": {},
   "outputs": [
    {
     "data": {
      "text/plain": [
       "array([[1. , 2. , 3.3],\n",
       "       [4. , 5. , 6.5]])"
      ]
     },
     "execution_count": 178,
     "metadata": {},
     "output_type": "execute_result"
    }
   ],
   "source": [
    "a2\n"
   ]
  },
  {
   "cell_type": "code",
   "execution_count": 179,
   "id": "a426afd4-d637-41dc-aae0-0047438fbc39",
   "metadata": {},
   "outputs": [
    {
     "data": {
      "text/plain": [
       "(2, 3)"
      ]
     },
     "execution_count": 179,
     "metadata": {},
     "output_type": "execute_result"
    }
   ],
   "source": [
    "a2.shape"
   ]
  },
  {
   "cell_type": "code",
   "execution_count": 181,
   "id": "c1bb1c27-5f2c-4963-9774-53db0b8e7280",
   "metadata": {},
   "outputs": [
    {
     "data": {
      "text/plain": [
       "array([[[ 1,  2,  3],\n",
       "        [ 4,  5,  6],\n",
       "        [ 7,  8,  9]],\n",
       "\n",
       "       [[10, 11, 12],\n",
       "        [13, 14, 15],\n",
       "        [16, 17, 18]]])"
      ]
     },
     "execution_count": 181,
     "metadata": {},
     "output_type": "execute_result"
    }
   ],
   "source": [
    "a3"
   ]
  },
  {
   "cell_type": "markdown",
   "id": "bfc4b4a5-a4c0-4c00-871a-18361bf8e69c",
   "metadata": {},
   "source": [
    "a2*a3 ##returns error/ \n"
   ]
  },
  {
   "cell_type": "code",
   "execution_count": 184,
   "id": "6e31dbfa-ba6d-4748-895c-fa00d79d6011",
   "metadata": {},
   "outputs": [
    {
     "data": {
      "text/plain": [
       "(2, 3)"
      ]
     },
     "execution_count": 184,
     "metadata": {},
     "output_type": "execute_result"
    }
   ],
   "source": [
    "a2.shape\n"
   ]
  },
  {
   "cell_type": "code",
   "execution_count": 185,
   "id": "2985c87a-924c-4563-a6c7-c67f1526aa37",
   "metadata": {},
   "outputs": [
    {
     "data": {
      "text/plain": [
       "(2, 3, 1)"
      ]
     },
     "execution_count": 185,
     "metadata": {},
     "output_type": "execute_result"
    }
   ],
   "source": [
    "a2.reshape(2,3,1).shape"
   ]
  },
  {
   "cell_type": "code",
   "execution_count": 186,
   "id": "dcd4a787-2316-4cab-85df-20c044bc60fa",
   "metadata": {},
   "outputs": [
    {
     "data": {
      "text/plain": [
       "(2, 3, 3)"
      ]
     },
     "execution_count": 186,
     "metadata": {},
     "output_type": "execute_result"
    }
   ],
   "source": [
    "a3.shape"
   ]
  },
  {
   "cell_type": "code",
   "execution_count": 187,
   "id": "6f46e9e2-f775-42a1-9c06-387a98789219",
   "metadata": {},
   "outputs": [],
   "source": [
    "a2_reshape = a2.reshape(2,3,1)"
   ]
  },
  {
   "cell_type": "code",
   "execution_count": 188,
   "id": "b9588e0a-447b-4969-af11-e271919cf9d0",
   "metadata": {},
   "outputs": [
    {
     "data": {
      "text/plain": [
       "array([[[1. ],\n",
       "        [2. ],\n",
       "        [3.3]],\n",
       "\n",
       "       [[4. ],\n",
       "        [5. ],\n",
       "        [6.5]]])"
      ]
     },
     "execution_count": 188,
     "metadata": {},
     "output_type": "execute_result"
    }
   ],
   "source": [
    "a2_reshape"
   ]
  },
  {
   "cell_type": "code",
   "execution_count": 190,
   "id": "06a2f6d2-5001-4408-b12e-51c5fb4048ee",
   "metadata": {},
   "outputs": [
    {
     "data": {
      "text/plain": [
       "array([[[  1. ,   2. ,   3. ],\n",
       "        [  8. ,  10. ,  12. ],\n",
       "        [ 23.1,  26.4,  29.7]],\n",
       "\n",
       "       [[ 40. ,  44. ,  48. ],\n",
       "        [ 65. ,  70. ,  75. ],\n",
       "        [104. , 110.5, 117. ]]])"
      ]
     },
     "execution_count": 190,
     "metadata": {},
     "output_type": "execute_result"
    }
   ],
   "source": [
    "a2_reshape*a3  ##We have now reshape our initial a2 to a shape that is compatible for broadcasting with a3w"
   ]
  },
  {
   "cell_type": "code",
   "execution_count": 191,
   "id": "eec74a61-da96-4bd4-b14f-f707882269c0",
   "metadata": {},
   "outputs": [],
   "source": [
    "##Transpose (Remember your Linear algebra)"
   ]
  },
  {
   "cell_type": "code",
   "execution_count": 192,
   "id": "b20255a8-72f1-4cad-97c1-25b15b349c72",
   "metadata": {},
   "outputs": [
    {
     "data": {
      "text/plain": [
       "array([[1. , 4. ],\n",
       "       [2. , 5. ],\n",
       "       [3.3, 6.5]])"
      ]
     },
     "execution_count": 192,
     "metadata": {},
     "output_type": "execute_result"
    }
   ],
   "source": [
    "a2.T"
   ]
  },
  {
   "cell_type": "code",
   "execution_count": 193,
   "id": "67511347-d1c3-4f54-9bba-2dfb1eccad66",
   "metadata": {},
   "outputs": [
    {
     "data": {
      "text/plain": [
       "array([[1. , 2. , 3.3],\n",
       "       [4. , 5. , 6.5]])"
      ]
     },
     "execution_count": 193,
     "metadata": {},
     "output_type": "execute_result"
    }
   ],
   "source": [
    "a2\n"
   ]
  },
  {
   "cell_type": "code",
   "execution_count": 194,
   "id": "2dae952f-7c5f-4549-9f17-7d518f919a2c",
   "metadata": {},
   "outputs": [
    {
     "data": {
      "text/plain": [
       "(3, 2)"
      ]
     },
     "execution_count": 194,
     "metadata": {},
     "output_type": "execute_result"
    }
   ],
   "source": [
    "a2.T.shape"
   ]
  },
  {
   "cell_type": "code",
   "execution_count": 195,
   "id": "afaf5488-7ff5-4bf8-8170-c9e54d256e57",
   "metadata": {},
   "outputs": [
    {
     "data": {
      "text/plain": [
       "array([[[ 1, 10],\n",
       "        [ 4, 13],\n",
       "        [ 7, 16]],\n",
       "\n",
       "       [[ 2, 11],\n",
       "        [ 5, 14],\n",
       "        [ 8, 17]],\n",
       "\n",
       "       [[ 3, 12],\n",
       "        [ 6, 15],\n",
       "        [ 9, 18]]])"
      ]
     },
     "execution_count": 195,
     "metadata": {},
     "output_type": "execute_result"
    }
   ],
   "source": [
    "a3.T"
   ]
  },
  {
   "cell_type": "code",
   "execution_count": 196,
   "id": "9bea6489-7aef-41e6-82e4-8c352ee088bc",
   "metadata": {},
   "outputs": [
    {
     "data": {
      "text/plain": [
       "(3, 3, 2)"
      ]
     },
     "execution_count": 196,
     "metadata": {},
     "output_type": "execute_result"
    }
   ],
   "source": [
    "a3.T.shape"
   ]
  },
  {
   "cell_type": "code",
   "execution_count": 197,
   "id": "32b42eb9-043a-4c03-abd8-b48d6a10c47f",
   "metadata": {},
   "outputs": [],
   "source": [
    "##Difference between reshape and transpose is that reshape is custom whereas transpose of set out structure"
   ]
  },
  {
   "cell_type": "markdown",
   "id": "adbccb69-0748-4f95-a80d-929f3efb0a2f",
   "metadata": {},
   "source": [
    "##Why Transpose"
   ]
  },
  {
   "cell_type": "markdown",
   "id": "3b1b0ed5-e4d8-4489-ab36-1cf79e59ac60",
   "metadata": {},
   "source": [
    "Dot Product     (Simply remember all you university linear algebra knowledge)"
   ]
  },
  {
   "cell_type": "code",
   "execution_count": 199,
   "id": "f96429e1-07c2-4f4f-b1b5-4be1aa3608b7",
   "metadata": {},
   "outputs": [],
   "source": [
    "##Tranpsose often useful in computing dotProducts"
   ]
  },
  {
   "cell_type": "markdown",
   "id": "a83bb945-a657-481b-8b5e-8eee1f85aea4",
   "metadata": {},
   "source": [
    "Dot product example(Nut Butter Sales)"
   ]
  },
  {
   "cell_type": "code",
   "execution_count": 202,
   "id": "9ce9fce9-834d-4668-9411-bbec4fb86f9e",
   "metadata": {},
   "outputs": [
    {
     "data": {
      "text/plain": [
       "array([[12, 15,  0],\n",
       "       [ 3,  3,  7],\n",
       "       [ 9, 19, 18],\n",
       "       [ 4,  6, 12],\n",
       "       [ 1,  6,  7]])"
      ]
     },
     "execution_count": 202,
     "metadata": {},
     "output_type": "execute_result"
    }
   ],
   "source": [
    "np.random.seed(0)\n",
    "##Number of jars sold\n",
    "sales_amounts = np.random.randint(20, size=(5,3))\n",
    "sales_amounts"
   ]
  },
  {
   "cell_type": "code",
   "execution_count": 203,
   "id": "aa4317b5-eca1-4ff7-83c6-777e5bf9fd7e",
   "metadata": {},
   "outputs": [],
   "source": [
    "##Create weekly sales DataFrame"
   ]
  },
  {
   "cell_type": "code",
   "execution_count": 205,
   "id": "e1ebd38d-25e6-4f49-9eba-d60771c38936",
   "metadata": {},
   "outputs": [],
   "source": [
    "weekly_sales = pd.DataFrame(sales_amounts, \n",
    "                            index=[\"Mon\", \"Tues\", \"Wed\", \"Thurs\", \"Fri\"],\n",
    "                            columns=[\"Almond butter\", \"Peanut butter\", \"Cashew butters\"])"
   ]
  },
  {
   "cell_type": "code",
   "execution_count": 207,
   "id": "ba7b850e-208e-491c-971f-60dfb0f10193",
   "metadata": {},
   "outputs": [
    {
     "data": {
      "text/html": [
       "<div>\n",
       "<style scoped>\n",
       "    .dataframe tbody tr th:only-of-type {\n",
       "        vertical-align: middle;\n",
       "    }\n",
       "\n",
       "    .dataframe tbody tr th {\n",
       "        vertical-align: top;\n",
       "    }\n",
       "\n",
       "    .dataframe thead th {\n",
       "        text-align: right;\n",
       "    }\n",
       "</style>\n",
       "<table border=\"1\" class=\"dataframe\">\n",
       "  <thead>\n",
       "    <tr style=\"text-align: right;\">\n",
       "      <th></th>\n",
       "      <th>Almond butter</th>\n",
       "      <th>Peanut butter</th>\n",
       "      <th>Cashew butters</th>\n",
       "    </tr>\n",
       "  </thead>\n",
       "  <tbody>\n",
       "    <tr>\n",
       "      <th>Mon</th>\n",
       "      <td>12</td>\n",
       "      <td>15</td>\n",
       "      <td>0</td>\n",
       "    </tr>\n",
       "    <tr>\n",
       "      <th>Tues</th>\n",
       "      <td>3</td>\n",
       "      <td>3</td>\n",
       "      <td>7</td>\n",
       "    </tr>\n",
       "    <tr>\n",
       "      <th>Wed</th>\n",
       "      <td>9</td>\n",
       "      <td>19</td>\n",
       "      <td>18</td>\n",
       "    </tr>\n",
       "    <tr>\n",
       "      <th>Thurs</th>\n",
       "      <td>4</td>\n",
       "      <td>6</td>\n",
       "      <td>12</td>\n",
       "    </tr>\n",
       "    <tr>\n",
       "      <th>Fri</th>\n",
       "      <td>1</td>\n",
       "      <td>6</td>\n",
       "      <td>7</td>\n",
       "    </tr>\n",
       "  </tbody>\n",
       "</table>\n",
       "</div>"
      ],
      "text/plain": [
       "       Almond butter  Peanut butter  Cashew butters\n",
       "Mon               12             15               0\n",
       "Tues               3              3               7\n",
       "Wed                9             19              18\n",
       "Thurs              4              6              12\n",
       "Fri                1              6               7"
      ]
     },
     "execution_count": 207,
     "metadata": {},
     "output_type": "execute_result"
    }
   ],
   "source": [
    "weekly_sales"
   ]
  },
  {
   "cell_type": "code",
   "execution_count": 208,
   "id": "19dc9fba-79bc-404c-b8cd-20cdc0d1556e",
   "metadata": {},
   "outputs": [
    {
     "data": {
      "text/plain": [
       "array([10,  8, 12])"
      ]
     },
     "execution_count": 208,
     "metadata": {},
     "output_type": "execute_result"
    }
   ],
   "source": [
    "##Create prices array\n",
    "prices = np.array([10,8,12])\n",
    "prices"
   ]
  },
  {
   "cell_type": "code",
   "execution_count": 211,
   "id": "076f9f85-ffb4-4c67-81ba-7365d9fd012e",
   "metadata": {},
   "outputs": [],
   "source": [
    "##Create prices butter_prices DataFrame \n",
    "butter_prices = pd.DataFrame(prices.reshape(1,3),\n",
    "                             index=[\"Price\"],\n",
    "                             columns=[\"Almond butter\", \"Peanut butter\", \"Cashew Butter\"])"
   ]
  },
  {
   "cell_type": "code",
   "execution_count": 212,
   "id": "c0dd176c-14a6-441b-9279-a9fc46bc3efa",
   "metadata": {},
   "outputs": [
    {
     "data": {
      "text/html": [
       "<div>\n",
       "<style scoped>\n",
       "    .dataframe tbody tr th:only-of-type {\n",
       "        vertical-align: middle;\n",
       "    }\n",
       "\n",
       "    .dataframe tbody tr th {\n",
       "        vertical-align: top;\n",
       "    }\n",
       "\n",
       "    .dataframe thead th {\n",
       "        text-align: right;\n",
       "    }\n",
       "</style>\n",
       "<table border=\"1\" class=\"dataframe\">\n",
       "  <thead>\n",
       "    <tr style=\"text-align: right;\">\n",
       "      <th></th>\n",
       "      <th>Almond butter</th>\n",
       "      <th>Peanut butter</th>\n",
       "      <th>Cashew Butter</th>\n",
       "    </tr>\n",
       "  </thead>\n",
       "  <tbody>\n",
       "    <tr>\n",
       "      <th>Price</th>\n",
       "      <td>10</td>\n",
       "      <td>8</td>\n",
       "      <td>12</td>\n",
       "    </tr>\n",
       "  </tbody>\n",
       "</table>\n",
       "</div>"
      ],
      "text/plain": [
       "       Almond butter  Peanut butter  Cashew Butter\n",
       "Price             10              8             12"
      ]
     },
     "execution_count": 212,
     "metadata": {},
     "output_type": "execute_result"
    }
   ],
   "source": [
    "butter_prices"
   ]
  },
  {
   "cell_type": "code",
   "execution_count": 213,
   "id": "6a2c4669-3b8b-46af-9422-35407638e396",
   "metadata": {},
   "outputs": [
    {
     "data": {
      "text/plain": [
       "array([10,  8, 12])"
      ]
     },
     "execution_count": 213,
     "metadata": {},
     "output_type": "execute_result"
    }
   ],
   "source": [
    "prices"
   ]
  },
  {
   "cell_type": "code",
   "execution_count": 214,
   "id": "7b76ffeb-37b6-4932-8675-ca68a802a1e6",
   "metadata": {},
   "outputs": [
    {
     "ename": "ValueError",
     "evalue": "shapes (3,) and (5,3) not aligned: 3 (dim 0) != 5 (dim 0)",
     "output_type": "error",
     "traceback": [
      "\u001b[1;31m---------------------------------------------------------------------------\u001b[0m",
      "\u001b[1;31mValueError\u001b[0m                                Traceback (most recent call last)",
      "Cell \u001b[1;32mIn[214], line 1\u001b[0m\n\u001b[1;32m----> 1\u001b[0m total_sales \u001b[38;5;241m=\u001b[39m prices\u001b[38;5;241m.\u001b[39mdot(sales_amounts)\n",
      "\u001b[1;31mValueError\u001b[0m: shapes (3,) and (5,3) not aligned: 3 (dim 0) != 5 (dim 0)"
     ]
    }
   ],
   "source": [
    "total_sales = prices.dot(sales_amounts)"
   ]
  },
  {
   "cell_type": "code",
   "execution_count": 215,
   "id": "74ccad69-44bd-4376-9c60-f4cca6a31f61",
   "metadata": {},
   "outputs": [],
   "source": [
    "##shapes are not aligned, we need to transpose one of the amounts"
   ]
  },
  {
   "cell_type": "code",
   "execution_count": 216,
   "id": "61fef8ec-8725-4957-98bc-ef413287969e",
   "metadata": {},
   "outputs": [],
   "source": [
    "total_sales = prices.dot(sales_amounts.T)"
   ]
  },
  {
   "cell_type": "code",
   "execution_count": 218,
   "id": "f3af7cea-3b12-4e4b-928b-fc66bf011d45",
   "metadata": {},
   "outputs": [
    {
     "data": {
      "text/plain": [
       "array([240, 138, 458, 232, 142])"
      ]
     },
     "execution_count": 218,
     "metadata": {},
     "output_type": "execute_result"
    }
   ],
   "source": [
    "total_sales"
   ]
  },
  {
   "cell_type": "code",
   "execution_count": 219,
   "id": "3394b5de-a303-46c4-bd78-fba01de632e1",
   "metadata": {},
   "outputs": [],
   "source": [
    "##Create daily_sales"
   ]
  },
  {
   "cell_type": "code",
   "execution_count": 220,
   "id": "94facbb0-434a-49f3-b23e-10365afbaeab",
   "metadata": {},
   "outputs": [
    {
     "data": {
      "text/plain": [
       "((1, 3), (5, 3))"
      ]
     },
     "execution_count": 220,
     "metadata": {},
     "output_type": "execute_result"
    }
   ],
   "source": [
    "butter_prices.shape, weekly_sales.shape"
   ]
  },
  {
   "cell_type": "code",
   "execution_count": 221,
   "id": "3573017c-a45b-4cac-a7df-e745c4549f9a",
   "metadata": {},
   "outputs": [
    {
     "data": {
      "text/html": [
       "<div>\n",
       "<style scoped>\n",
       "    .dataframe tbody tr th:only-of-type {\n",
       "        vertical-align: middle;\n",
       "    }\n",
       "\n",
       "    .dataframe tbody tr th {\n",
       "        vertical-align: top;\n",
       "    }\n",
       "\n",
       "    .dataframe thead th {\n",
       "        text-align: right;\n",
       "    }\n",
       "</style>\n",
       "<table border=\"1\" class=\"dataframe\">\n",
       "  <thead>\n",
       "    <tr style=\"text-align: right;\">\n",
       "      <th></th>\n",
       "      <th>Almond butter</th>\n",
       "      <th>Peanut butter</th>\n",
       "      <th>Cashew butters</th>\n",
       "    </tr>\n",
       "  </thead>\n",
       "  <tbody>\n",
       "    <tr>\n",
       "      <th>Mon</th>\n",
       "      <td>12</td>\n",
       "      <td>15</td>\n",
       "      <td>0</td>\n",
       "    </tr>\n",
       "    <tr>\n",
       "      <th>Tues</th>\n",
       "      <td>3</td>\n",
       "      <td>3</td>\n",
       "      <td>7</td>\n",
       "    </tr>\n",
       "    <tr>\n",
       "      <th>Wed</th>\n",
       "      <td>9</td>\n",
       "      <td>19</td>\n",
       "      <td>18</td>\n",
       "    </tr>\n",
       "    <tr>\n",
       "      <th>Thurs</th>\n",
       "      <td>4</td>\n",
       "      <td>6</td>\n",
       "      <td>12</td>\n",
       "    </tr>\n",
       "    <tr>\n",
       "      <th>Fri</th>\n",
       "      <td>1</td>\n",
       "      <td>6</td>\n",
       "      <td>7</td>\n",
       "    </tr>\n",
       "  </tbody>\n",
       "</table>\n",
       "</div>"
      ],
      "text/plain": [
       "       Almond butter  Peanut butter  Cashew butters\n",
       "Mon               12             15               0\n",
       "Tues               3              3               7\n",
       "Wed                9             19              18\n",
       "Thurs              4              6              12\n",
       "Fri                1              6               7"
      ]
     },
     "execution_count": 221,
     "metadata": {},
     "output_type": "execute_result"
    }
   ],
   "source": [
    "weekly_sales"
   ]
  },
  {
   "cell_type": "markdown",
   "id": "b2491db6-ecfa-4482-91f4-fc14231cd53c",
   "metadata": {},
   "source": [
    "daily_sales = butter_prices.dot(weekly_sales.T)"
   ]
  },
  {
   "cell_type": "code",
   "execution_count": 224,
   "id": "18e5c5e6-dd65-47d2-b3d0-d36d5645b283",
   "metadata": {},
   "outputs": [
    {
     "data": {
      "text/html": [
       "<div>\n",
       "<style scoped>\n",
       "    .dataframe tbody tr th:only-of-type {\n",
       "        vertical-align: middle;\n",
       "    }\n",
       "\n",
       "    .dataframe tbody tr th {\n",
       "        vertical-align: top;\n",
       "    }\n",
       "\n",
       "    .dataframe thead th {\n",
       "        text-align: right;\n",
       "    }\n",
       "</style>\n",
       "<table border=\"1\" class=\"dataframe\">\n",
       "  <thead>\n",
       "    <tr style=\"text-align: right;\">\n",
       "      <th></th>\n",
       "      <th>Almond butter</th>\n",
       "      <th>Peanut butter</th>\n",
       "      <th>Cashew Butter</th>\n",
       "    </tr>\n",
       "  </thead>\n",
       "  <tbody>\n",
       "    <tr>\n",
       "      <th>Price</th>\n",
       "      <td>10</td>\n",
       "      <td>8</td>\n",
       "      <td>12</td>\n",
       "    </tr>\n",
       "  </tbody>\n",
       "</table>\n",
       "</div>"
      ],
      "text/plain": [
       "       Almond butter  Peanut butter  Cashew Butter\n",
       "Price             10              8             12"
      ]
     },
     "execution_count": 224,
     "metadata": {},
     "output_type": "execute_result"
    }
   ],
   "source": [
    "butter_prices"
   ]
  },
  {
   "cell_type": "code",
   "execution_count": 226,
   "id": "8e37d3b2-9283-4f12-bc7a-ffa7c0da8421",
   "metadata": {},
   "outputs": [
    {
     "data": {
      "text/plain": [
       "((5, 3), (1, 3))"
      ]
     },
     "execution_count": 226,
     "metadata": {},
     "output_type": "execute_result"
    }
   ],
   "source": [
    "weekly_sales.shape, butter_prices.shape\n"
   ]
  },
  {
   "cell_type": "markdown",
   "id": "b3361779-1496-41b6-9186-133985de7b71",
   "metadata": {},
   "source": [
    "daily_sales = weekly_sales.dot(butter_prices) ##Still to debug"
   ]
  },
  {
   "cell_type": "code",
   "execution_count": 232,
   "id": "8f1eab81-3279-426d-b274-24b3612500d0",
   "metadata": {},
   "outputs": [
    {
     "data": {
      "text/html": [
       "<div>\n",
       "<style scoped>\n",
       "    .dataframe tbody tr th:only-of-type {\n",
       "        vertical-align: middle;\n",
       "    }\n",
       "\n",
       "    .dataframe tbody tr th {\n",
       "        vertical-align: top;\n",
       "    }\n",
       "\n",
       "    .dataframe thead th {\n",
       "        text-align: right;\n",
       "    }\n",
       "</style>\n",
       "<table border=\"1\" class=\"dataframe\">\n",
       "  <thead>\n",
       "    <tr style=\"text-align: right;\">\n",
       "      <th></th>\n",
       "      <th>Price</th>\n",
       "    </tr>\n",
       "  </thead>\n",
       "  <tbody>\n",
       "    <tr>\n",
       "      <th>Price</th>\n",
       "      <td>308</td>\n",
       "    </tr>\n",
       "  </tbody>\n",
       "</table>\n",
       "</div>"
      ],
      "text/plain": [
       "       Price\n",
       "Price    308"
      ]
     },
     "execution_count": 232,
     "metadata": {},
     "output_type": "execute_result"
    }
   ],
   "source": [
    "daily_sales"
   ]
  },
  {
   "cell_type": "code",
   "execution_count": 238,
   "id": "23de4fab-9f09-45e7-887e-b288d1dd3c3d",
   "metadata": {},
   "outputs": [],
   "source": [
    "butter_price_transposed = butter_prices.T"
   ]
  },
  {
   "cell_type": "code",
   "execution_count": 240,
   "id": "860687fb-699a-4906-9acf-70ac944e8ad4",
   "metadata": {},
   "outputs": [
    {
     "data": {
      "text/plain": [
       "(3, 1)"
      ]
     },
     "execution_count": 240,
     "metadata": {},
     "output_type": "execute_result"
    }
   ],
   "source": [
    "butter_price_transposed.shape"
   ]
  },
  {
   "cell_type": "markdown",
   "id": "07b25ad7-486c-4890-aee8-7f7ba88a6d86",
   "metadata": {},
   "source": [
    "daily_sales2 = butter_prices*(weekly_sales.T)##To debug"
   ]
  },
  {
   "cell_type": "markdown",
   "id": "bb6a4143-a7ee-4575-866b-4df4ff0299d7",
   "metadata": {},
   "source": [
    "daily_sales2"
   ]
  },
  {
   "cell_type": "code",
   "execution_count": 253,
   "id": "59fa624a-d0ef-4f37-882d-1e174719135b",
   "metadata": {},
   "outputs": [
    {
     "data": {
      "text/html": [
       "<div>\n",
       "<style scoped>\n",
       "    .dataframe tbody tr th:only-of-type {\n",
       "        vertical-align: middle;\n",
       "    }\n",
       "\n",
       "    .dataframe tbody tr th {\n",
       "        vertical-align: top;\n",
       "    }\n",
       "\n",
       "    .dataframe thead th {\n",
       "        text-align: right;\n",
       "    }\n",
       "</style>\n",
       "<table border=\"1\" class=\"dataframe\">\n",
       "  <thead>\n",
       "    <tr style=\"text-align: right;\">\n",
       "      <th></th>\n",
       "      <th>Price</th>\n",
       "    </tr>\n",
       "  </thead>\n",
       "  <tbody>\n",
       "    <tr>\n",
       "      <th>Price</th>\n",
       "      <td>308</td>\n",
       "    </tr>\n",
       "  </tbody>\n",
       "</table>\n",
       "</div>"
      ],
      "text/plain": [
       "       Price\n",
       "Price    308"
      ]
     },
     "execution_count": 253,
     "metadata": {},
     "output_type": "execute_result"
    }
   ],
   "source": [
    "daily_sales"
   ]
  },
  {
   "cell_type": "code",
   "execution_count": 254,
   "id": "670d2217-a18a-4a1b-84ce-af46953f6d4b",
   "metadata": {},
   "outputs": [
    {
     "data": {
      "text/plain": [
       "(5, 3)"
      ]
     },
     "execution_count": 254,
     "metadata": {},
     "output_type": "execute_result"
    }
   ],
   "source": [
    "weekly_sales.shape"
   ]
  },
  {
   "cell_type": "code",
   "execution_count": null,
   "id": "6106099f-59f1-4ad4-af76-e58c9fd2fcd0",
   "metadata": {},
   "outputs": [],
   "source": []
  },
  {
   "cell_type": "markdown",
   "id": "9c75755d-c634-46e0-ae06-439e7e22a16b",
   "metadata": {},
   "source": [
    "##Comparison operaters"
   ]
  },
  {
   "cell_type": "code",
   "execution_count": 255,
   "id": "b7ada3bf-34fb-47e4-b17a-1197deb77660",
   "metadata": {},
   "outputs": [
    {
     "data": {
      "text/plain": [
       "array([1, 2, 3])"
      ]
     },
     "execution_count": 255,
     "metadata": {},
     "output_type": "execute_result"
    }
   ],
   "source": [
    "a1"
   ]
  },
  {
   "cell_type": "code",
   "execution_count": 256,
   "id": "1f01fe47-7c61-453a-9034-c0ac2913fd02",
   "metadata": {},
   "outputs": [
    {
     "data": {
      "text/plain": [
       "array([[1. , 2. , 3.3],\n",
       "       [4. , 5. , 6.5]])"
      ]
     },
     "execution_count": 256,
     "metadata": {},
     "output_type": "execute_result"
    }
   ],
   "source": [
    "a2"
   ]
  },
  {
   "cell_type": "code",
   "execution_count": 257,
   "id": "8335dbaa-49aa-495d-8a99-04bac7cf986f",
   "metadata": {},
   "outputs": [
    {
     "data": {
      "text/plain": [
       "array([[False, False, False],\n",
       "       [False, False, False]])"
      ]
     },
     "execution_count": 257,
     "metadata": {},
     "output_type": "execute_result"
    }
   ],
   "source": [
    "a1>a2"
   ]
  },
  {
   "cell_type": "code",
   "execution_count": 259,
   "id": "02412d4e-0fbc-448c-9ac1-3187b4f4e502",
   "metadata": {},
   "outputs": [],
   "source": [
    "bool_array = a1>=a2"
   ]
  },
  {
   "cell_type": "code",
   "execution_count": 260,
   "id": "b38d0b08-be5a-40e6-b974-41afe74e7565",
   "metadata": {},
   "outputs": [
    {
     "data": {
      "text/plain": [
       "array([[ True,  True, False],\n",
       "       [False, False, False]])"
      ]
     },
     "execution_count": 260,
     "metadata": {},
     "output_type": "execute_result"
    }
   ],
   "source": [
    "bool_array"
   ]
  },
  {
   "cell_type": "code",
   "execution_count": 262,
   "id": "36638dc4-d4d3-4cdb-a13c-a463b1d94e1a",
   "metadata": {},
   "outputs": [
    {
     "data": {
      "text/plain": [
       "(numpy.ndarray, dtype('bool'))"
      ]
     },
     "execution_count": 262,
     "metadata": {},
     "output_type": "execute_result"
    }
   ],
   "source": [
    "type(bool_array), bool_array.dtype"
   ]
  },
  {
   "cell_type": "code",
   "execution_count": 263,
   "id": "030d1989-2915-4aad-a137-73caa558a068",
   "metadata": {},
   "outputs": [
    {
     "data": {
      "text/plain": [
       "array([False, False, False])"
      ]
     },
     "execution_count": 263,
     "metadata": {},
     "output_type": "execute_result"
    }
   ],
   "source": [
    "a1>5"
   ]
  },
  {
   "cell_type": "code",
   "execution_count": 264,
   "id": "e5655ee9-2a1e-4e95-aba3-79b6f2c2a686",
   "metadata": {},
   "outputs": [
    {
     "data": {
      "text/plain": [
       "array([ True,  True,  True])"
      ]
     },
     "execution_count": 264,
     "metadata": {},
     "output_type": "execute_result"
    }
   ],
   "source": [
    "a1<5"
   ]
  },
  {
   "cell_type": "code",
   "execution_count": 265,
   "id": "0fd1fb6e-08b9-4aab-af7d-78927b3c4b12",
   "metadata": {},
   "outputs": [
    {
     "data": {
      "text/plain": [
       "array([[ True,  True, False],\n",
       "       [False, False, False]])"
      ]
     },
     "execution_count": 265,
     "metadata": {},
     "output_type": "execute_result"
    }
   ],
   "source": [
    "a1 == a2"
   ]
  },
  {
   "cell_type": "markdown",
   "id": "42578787-1c5c-4495-8dc6-d6abec42739a",
   "metadata": {},
   "source": [
    "##5. Sorting Arrays"
   ]
  },
  {
   "cell_type": "code",
   "execution_count": 266,
   "id": "a6ebe911-35b9-4c08-bcf7-ebddb2377521",
   "metadata": {},
   "outputs": [
    {
     "data": {
      "text/plain": [
       "array([[7, 8, 1, 5, 9],\n",
       "       [8, 9, 4, 3, 0],\n",
       "       [3, 5, 0, 2, 3]])"
      ]
     },
     "execution_count": 266,
     "metadata": {},
     "output_type": "execute_result"
    }
   ],
   "source": [
    "random_array = np.random.randint(10, size = (3,5))\n",
    "random_array"
   ]
  },
  {
   "cell_type": "code",
   "execution_count": 267,
   "id": "4df4c201-da63-43ea-910f-787dc1f2d76b",
   "metadata": {},
   "outputs": [
    {
     "data": {
      "text/plain": [
       "(3, 5)"
      ]
     },
     "execution_count": 267,
     "metadata": {},
     "output_type": "execute_result"
    }
   ],
   "source": [
    "random_array.shape"
   ]
  },
  {
   "cell_type": "code",
   "execution_count": 268,
   "id": "b9cf3c81-5c11-4215-8830-d7b12442990a",
   "metadata": {},
   "outputs": [
    {
     "data": {
      "text/plain": [
       "array([[1, 5, 7, 8, 9],\n",
       "       [0, 3, 4, 8, 9],\n",
       "       [0, 2, 3, 3, 5]])"
      ]
     },
     "execution_count": 268,
     "metadata": {},
     "output_type": "execute_result"
    }
   ],
   "source": [
    "np.sort(random_array)"
   ]
  },
  {
   "cell_type": "code",
   "execution_count": 270,
   "id": "60fa3bdd-7769-4402-8b3f-d4d1ec24c700",
   "metadata": {},
   "outputs": [
    {
     "data": {
      "text/plain": [
       "array([[2, 3, 0, 1, 4],\n",
       "       [4, 3, 2, 0, 1],\n",
       "       [2, 3, 0, 4, 1]], dtype=int64)"
      ]
     },
     "execution_count": 270,
     "metadata": {},
     "output_type": "execute_result"
    }
   ],
   "source": [
    "np.argsort(random_array) ##sorts in order of index"
   ]
  },
  {
   "cell_type": "code",
   "execution_count": 271,
   "id": "175402e3-a140-4938-9b0e-56c8f7929b46",
   "metadata": {},
   "outputs": [
    {
     "data": {
      "text/plain": [
       "0"
      ]
     },
     "execution_count": 271,
     "metadata": {},
     "output_type": "execute_result"
    }
   ],
   "source": [
    "np.argmin(a1) ##Returns position of minimun value"
   ]
  },
  {
   "cell_type": "code",
   "execution_count": 272,
   "id": "ad94bcb7-ac63-4846-9f66-5c3bf28a2d39",
   "metadata": {},
   "outputs": [
    {
     "data": {
      "text/plain": [
       "array([1, 1, 1, 0, 0], dtype=int64)"
      ]
     },
     "execution_count": 272,
     "metadata": {},
     "output_type": "execute_result"
    }
   ],
   "source": [
    "np.argmax(random_array, axis = 0)"
   ]
  },
  {
   "cell_type": "markdown",
   "id": "924561c0-1bef-40a4-a9f7-7cb2cdd2ea65",
   "metadata": {},
   "source": [
    "##6. Practical example --> NumPy in Action"
   ]
  },
  {
   "cell_type": "code",
   "execution_count": 274,
   "id": "98a53db8-c390-4244-ac02-8ab2c05c79d0",
   "metadata": {},
   "outputs": [],
   "source": [
    "##Remember much of machine learning is taking data and turning that data into machine readable numbers that can be processed by machine "
   ]
  },
  {
   "cell_type": "markdown",
   "id": "ee263554-ac63-4e90-940b-d09b071ed5be",
   "metadata": {},
   "source": [
    "<img src=\"\"panda.png\">"
   ]
  },
  {
   "cell_type": "markdown",
   "id": "26ab4953-434f-4429-b63d-b3a585576718",
   "metadata": {},
   "source": [
    "<img src=\"panda.png\"/>"
   ]
  },
  {
   "cell_type": "markdown",
   "id": "4315ef5a-87c4-436b-b00d-18034c0fd276",
   "metadata": {},
   "source": [
    "##Turn image into numpy array\n",
    "from matplotlib.image import imread"
   ]
  },
  {
   "cell_type": "code",
   "execution_count": null,
   "id": "efec1b81-cca8-43af-8ae8-f4ec0919500a",
   "metadata": {},
   "outputs": [],
   "source": [
    "##Turn image into numpy array from matplotlib.image import imread"
   ]
  },
  {
   "cell_type": "code",
   "execution_count": 289,
   "id": "3f9a82bf-c9c5-43c5-85e7-6c334cd4be1e",
   "metadata": {},
   "outputs": [],
   "source": [
    "from matplotlib.image import imread"
   ]
  },
  {
   "cell_type": "code",
   "execution_count": 293,
   "id": "b6ca7298-ec9b-4379-8603-c67234f727ec",
   "metadata": {},
   "outputs": [
    {
     "name": "stdout",
     "output_type": "stream",
     "text": [
      "<class 'numpy.ndarray'>\n"
     ]
    }
   ],
   "source": [
    "panda = imread(\"panda.png\") ##Because panda is of type ndarry, we can compute all the array functionalities for ML\n",
    "print(type(panda))"
   ]
  },
  {
   "cell_type": "code",
   "execution_count": 295,
   "id": "851f011c-936a-48f2-b5d8-bf97edc1e50d",
   "metadata": {},
   "outputs": [
    {
     "data": {
      "text/plain": [
       "(24465000, (2330, 3500, 3), 3)"
      ]
     },
     "execution_count": 295,
     "metadata": {},
     "output_type": "execute_result"
    }
   ],
   "source": [
    "panda.size, panda.shape, panda.ndim"
   ]
  },
  {
   "cell_type": "code",
   "execution_count": 296,
   "id": "54540fe4-87a9-4aca-88a6-252cd671eb17",
   "metadata": {},
   "outputs": [
    {
     "data": {
      "text/plain": [
       "array([[[0.05490196, 0.10588235, 0.06666667],\n",
       "        [0.05490196, 0.10588235, 0.06666667],\n",
       "        [0.05490196, 0.10588235, 0.06666667],\n",
       "        ...,\n",
       "        [0.16470589, 0.12941177, 0.09411765],\n",
       "        [0.16470589, 0.12941177, 0.09411765],\n",
       "        [0.16470589, 0.12941177, 0.09411765]],\n",
       "\n",
       "       [[0.05490196, 0.10588235, 0.06666667],\n",
       "        [0.05490196, 0.10588235, 0.06666667],\n",
       "        [0.05490196, 0.10588235, 0.06666667],\n",
       "        ...,\n",
       "        [0.16470589, 0.12941177, 0.09411765],\n",
       "        [0.16470589, 0.12941177, 0.09411765],\n",
       "        [0.16470589, 0.12941177, 0.09411765]],\n",
       "\n",
       "       [[0.05490196, 0.10588235, 0.06666667],\n",
       "        [0.05490196, 0.10588235, 0.06666667],\n",
       "        [0.05490196, 0.10588235, 0.06666667],\n",
       "        ...,\n",
       "        [0.16470589, 0.12941177, 0.09411765],\n",
       "        [0.16470589, 0.12941177, 0.09411765],\n",
       "        [0.16470589, 0.12941177, 0.09411765]],\n",
       "\n",
       "       ...,\n",
       "\n",
       "       [[0.13333334, 0.07450981, 0.05490196],\n",
       "        [0.12156863, 0.0627451 , 0.04313726],\n",
       "        [0.10980392, 0.05098039, 0.03137255],\n",
       "        ...,\n",
       "        [0.02745098, 0.02745098, 0.03529412],\n",
       "        [0.02745098, 0.02745098, 0.03529412],\n",
       "        [0.02745098, 0.02745098, 0.03529412]],\n",
       "\n",
       "       [[0.13333334, 0.07450981, 0.05490196],\n",
       "        [0.12156863, 0.0627451 , 0.04313726],\n",
       "        [0.12156863, 0.0627451 , 0.04313726],\n",
       "        ...,\n",
       "        [0.02352941, 0.02352941, 0.03137255],\n",
       "        [0.02352941, 0.02352941, 0.03137255],\n",
       "        [0.02352941, 0.02352941, 0.03137255]],\n",
       "\n",
       "       [[0.13333334, 0.07450981, 0.05490196],\n",
       "        [0.12156863, 0.0627451 , 0.04313726],\n",
       "        [0.12156863, 0.0627451 , 0.04313726],\n",
       "        ...,\n",
       "        [0.02352941, 0.02352941, 0.03137255],\n",
       "        [0.02352941, 0.02352941, 0.03137255],\n",
       "        [0.02352941, 0.02352941, 0.03137255]]], dtype=float32)"
      ]
     },
     "execution_count": 296,
     "metadata": {},
     "output_type": "execute_result"
    }
   ],
   "source": [
    "panda"
   ]
  },
  {
   "cell_type": "code",
   "execution_count": 297,
   "id": "5eb606fb-a84b-403d-9784-71f504c3edee",
   "metadata": {},
   "outputs": [
    {
     "data": {
      "text/plain": [
       "array([[[0.05490196, 0.10588235, 0.06666667],\n",
       "        [0.05490196, 0.10588235, 0.06666667],\n",
       "        [0.05490196, 0.10588235, 0.06666667],\n",
       "        ...,\n",
       "        [0.16470589, 0.12941177, 0.09411765],\n",
       "        [0.16470589, 0.12941177, 0.09411765],\n",
       "        [0.16470589, 0.12941177, 0.09411765]]], dtype=float32)"
      ]
     },
     "execution_count": 297,
     "metadata": {},
     "output_type": "execute_result"
    }
   ],
   "source": [
    "panda[:1]"
   ]
  },
  {
   "cell_type": "markdown",
   "id": "04b6efb3-1d7f-42c9-904a-ebec5f0b6710",
   "metadata": {},
   "source": [
    "<img src=\"car-photo.png\" >"
   ]
  },
  {
   "cell_type": "code",
   "execution_count": 299,
   "id": "eb00cb5a-a4b3-4a8a-bb1c-cbdf03351ec1",
   "metadata": {},
   "outputs": [],
   "source": [
    "car = imread(\"car-photo.png\")"
   ]
  },
  {
   "cell_type": "code",
   "execution_count": 300,
   "id": "3bccfbd0-aefd-4e06-833f-9f69d4e9ef35",
   "metadata": {},
   "outputs": [
    {
     "data": {
      "text/plain": [
       "array([[[0.5019608 , 0.50980395, 0.4862745 , 1.        ],\n",
       "        [0.3372549 , 0.34509805, 0.30588236, 1.        ],\n",
       "        [0.20392157, 0.21568628, 0.14901961, 1.        ],\n",
       "        ...,\n",
       "        [0.64705884, 0.7058824 , 0.54901963, 1.        ],\n",
       "        [0.59607846, 0.63529414, 0.45882353, 1.        ],\n",
       "        [0.44705883, 0.47058824, 0.3372549 , 1.        ]],\n",
       "\n",
       "       [[0.44313726, 0.43529412, 0.40392157, 1.        ],\n",
       "        [0.3137255 , 0.31764707, 0.27450982, 1.        ],\n",
       "        [0.2       , 0.21176471, 0.14117648, 1.        ],\n",
       "        ...,\n",
       "        [0.5058824 , 0.5372549 , 0.4117647 , 1.        ],\n",
       "        [0.49803922, 0.52156866, 0.39607844, 1.        ],\n",
       "        [0.4       , 0.42745098, 0.34117648, 1.        ]],\n",
       "\n",
       "       [[0.39607844, 0.38039216, 0.34117648, 1.        ],\n",
       "        [0.31764707, 0.3137255 , 0.27450982, 1.        ],\n",
       "        [0.28627452, 0.29411766, 0.24705882, 1.        ],\n",
       "        ...,\n",
       "        [0.44705883, 0.45882353, 0.32156864, 1.        ],\n",
       "        [0.45882353, 0.48235294, 0.3529412 , 1.        ],\n",
       "        [0.4509804 , 0.49019608, 0.38039216, 1.        ]],\n",
       "\n",
       "       ...,\n",
       "\n",
       "       [[0.47058824, 0.57254905, 0.6313726 , 1.        ],\n",
       "        [0.4392157 , 0.53333336, 0.5882353 , 1.        ],\n",
       "        [0.48235294, 0.5803922 , 0.6392157 , 1.        ],\n",
       "        ...,\n",
       "        [0.6156863 , 0.7529412 , 0.827451  , 1.        ],\n",
       "        [0.61960787, 0.7607843 , 0.83137256, 1.        ],\n",
       "        [0.5921569 , 0.73333335, 0.7921569 , 1.        ]],\n",
       "\n",
       "       [[0.4745098 , 0.5803922 , 0.6392157 , 1.        ],\n",
       "        [0.47058824, 0.58431375, 0.63529414, 1.        ],\n",
       "        [0.4117647 , 0.5019608 , 0.5529412 , 1.        ],\n",
       "        ...,\n",
       "        [0.54901963, 0.6784314 , 0.74509805, 1.        ],\n",
       "        [0.65882355, 0.8117647 , 0.8862745 , 1.        ],\n",
       "        [0.60784316, 0.74509805, 0.8117647 , 1.        ]],\n",
       "\n",
       "       [[0.4745098 , 0.57254905, 0.627451  , 1.        ],\n",
       "        [0.49411765, 0.6       , 0.65882355, 1.        ],\n",
       "        [0.49019608, 0.5921569 , 0.64705884, 1.        ],\n",
       "        ...,\n",
       "        [0.5294118 , 0.63529414, 0.69803923, 1.        ],\n",
       "        [0.5529412 , 0.67058825, 0.7372549 , 1.        ],\n",
       "        [0.6156863 , 0.73333335, 0.8       , 1.        ]]], dtype=float32)"
      ]
     },
     "execution_count": 300,
     "metadata": {},
     "output_type": "execute_result"
    }
   ],
   "source": [
    "car"
   ]
  },
  {
   "cell_type": "code",
   "execution_count": 301,
   "id": "0979d2d3-182b-46c9-84ed-a68a2c31d397",
   "metadata": {},
   "outputs": [
    {
     "name": "stdout",
     "output_type": "stream",
     "text": [
      "<class 'numpy.ndarray'>\n"
     ]
    }
   ],
   "source": [
    "print(type(car))"
   ]
  },
  {
   "cell_type": "markdown",
   "id": "2858f8d2-cd64-48af-b017-ed4d85501d49",
   "metadata": {},
   "source": [
    "<img src=\"dog-photo.png\">"
   ]
  },
  {
   "cell_type": "code",
   "execution_count": 303,
   "id": "d9575b99-31ce-4487-bbcb-288e273cd378",
   "metadata": {},
   "outputs": [],
   "source": [
    "dog = imread(\"dog-photo.png\")"
   ]
  },
  {
   "cell_type": "code",
   "execution_count": 304,
   "id": "86adce8b-3457-4674-852d-8f93d515d23b",
   "metadata": {},
   "outputs": [
    {
     "data": {
      "text/plain": [
       "array([[[0.70980394, 0.80784315, 0.88235295, 1.        ],\n",
       "        [0.72156864, 0.8117647 , 0.8862745 , 1.        ],\n",
       "        [0.7411765 , 0.8156863 , 0.8862745 , 1.        ],\n",
       "        ...,\n",
       "        [0.49803922, 0.6862745 , 0.8392157 , 1.        ],\n",
       "        [0.49411765, 0.68235296, 0.8392157 , 1.        ],\n",
       "        [0.49411765, 0.68235296, 0.8352941 , 1.        ]],\n",
       "\n",
       "       [[0.69411767, 0.8039216 , 0.8862745 , 1.        ],\n",
       "        [0.7019608 , 0.8039216 , 0.88235295, 1.        ],\n",
       "        [0.7058824 , 0.80784315, 0.88235295, 1.        ],\n",
       "        ...,\n",
       "        [0.5019608 , 0.6862745 , 0.84705883, 1.        ],\n",
       "        [0.49411765, 0.68235296, 0.84313726, 1.        ],\n",
       "        [0.49411765, 0.68235296, 0.8392157 , 1.        ]],\n",
       "\n",
       "       [[0.6901961 , 0.8       , 0.88235295, 1.        ],\n",
       "        [0.69803923, 0.8039216 , 0.88235295, 1.        ],\n",
       "        [0.7058824 , 0.80784315, 0.88235295, 1.        ],\n",
       "        ...,\n",
       "        [0.5019608 , 0.6862745 , 0.84705883, 1.        ],\n",
       "        [0.49803922, 0.6862745 , 0.84313726, 1.        ],\n",
       "        [0.49803922, 0.6862745 , 0.84313726, 1.        ]],\n",
       "\n",
       "       ...,\n",
       "\n",
       "       [[0.9098039 , 0.81960785, 0.654902  , 1.        ],\n",
       "        [0.8352941 , 0.7490196 , 0.6509804 , 1.        ],\n",
       "        [0.72156864, 0.6313726 , 0.5372549 , 1.        ],\n",
       "        ...,\n",
       "        [0.01568628, 0.07058824, 0.02352941, 1.        ],\n",
       "        [0.03921569, 0.09411765, 0.03529412, 1.        ],\n",
       "        [0.03921569, 0.09019608, 0.05490196, 1.        ]],\n",
       "\n",
       "       [[0.9137255 , 0.83137256, 0.6784314 , 1.        ],\n",
       "        [0.8117647 , 0.7294118 , 0.627451  , 1.        ],\n",
       "        [0.65882355, 0.5686275 , 0.47843137, 1.        ],\n",
       "        ...,\n",
       "        [0.00392157, 0.05490196, 0.03529412, 1.        ],\n",
       "        [0.03137255, 0.09019608, 0.05490196, 1.        ],\n",
       "        [0.04705882, 0.10588235, 0.06666667, 1.        ]],\n",
       "\n",
       "       [[0.9137255 , 0.83137256, 0.68235296, 1.        ],\n",
       "        [0.76862746, 0.68235296, 0.5882353 , 1.        ],\n",
       "        [0.59607846, 0.5058824 , 0.44313726, 1.        ],\n",
       "        ...,\n",
       "        [0.03921569, 0.10196079, 0.07058824, 1.        ],\n",
       "        [0.02745098, 0.08235294, 0.05882353, 1.        ],\n",
       "        [0.05098039, 0.11372549, 0.07058824, 1.        ]]], dtype=float32)"
      ]
     },
     "execution_count": 304,
     "metadata": {},
     "output_type": "execute_result"
    }
   ],
   "source": [
    "dog"
   ]
  },
  {
   "cell_type": "code",
   "execution_count": 305,
   "id": "ff6d7337-ebc0-4963-8459-f6f0b38c7596",
   "metadata": {},
   "outputs": [],
   "source": [
    "##Because our images are now in the forms of numbers we can run calculations and computations to read pictures etc"
   ]
  },
  {
   "cell_type": "code",
   "execution_count": null,
   "id": "20003088-aa23-4dcb-a412-9afe8c9db7a3",
   "metadata": {},
   "outputs": [],
   "source": []
  }
 ],
 "metadata": {
  "kernelspec": {
   "display_name": "Python 3 (ipykernel)",
   "language": "python",
   "name": "python3"
  },
  "language_info": {
   "codemirror_mode": {
    "name": "ipython",
    "version": 3
   },
   "file_extension": ".py",
   "mimetype": "text/x-python",
   "name": "python",
   "nbconvert_exporter": "python",
   "pygments_lexer": "ipython3",
   "version": "3.12.4"
  }
 },
 "nbformat": 4,
 "nbformat_minor": 5
}
